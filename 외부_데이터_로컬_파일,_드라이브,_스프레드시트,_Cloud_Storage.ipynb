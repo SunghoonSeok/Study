{
  "nbformat": 4,
  "nbformat_minor": 0,
  "metadata": {
    "colab": {
      "name": "외부 데이터: 로컬 파일, 드라이브, 스프레드시트, Cloud Storage",
      "provenance": [],
      "collapsed_sections": [],
      "toc_visible": true,
      "include_colab_link": true
    },
    "kernelspec": {
      "display_name": "Python 3",
      "name": "python3"
    },
    "accelerator": "GPU"
  },
  "cells": [
    {
      "cell_type": "markdown",
      "metadata": {
        "id": "view-in-github",
        "colab_type": "text"
      },
      "source": [
        "<a href=\"https://colab.research.google.com/github/SunghoonSeok/Study/blob/master/%EC%99%B8%EB%B6%80_%EB%8D%B0%EC%9D%B4%ED%84%B0_%EB%A1%9C%EC%BB%AC_%ED%8C%8C%EC%9D%BC%2C_%EB%93%9C%EB%9D%BC%EC%9D%B4%EB%B8%8C%2C_%EC%8A%A4%ED%94%84%EB%A0%88%EB%93%9C%EC%8B%9C%ED%8A%B8%2C_Cloud_Storage.ipynb\" target=\"_parent\"><img src=\"https://colab.research.google.com/assets/colab-badge.svg\" alt=\"Open In Colab\"/></a>"
      ]
    },
    {
      "cell_type": "markdown",
      "metadata": {
        "id": "7Z2jcRKwUHqV"
      },
      "source": [
        "이 노트북에서는 외부 소스의 데이터를 로드 및 저장하는 레시피를 이용할 수 있습니다."
      ]
    },
    {
      "cell_type": "code",
      "metadata": {
        "id": "dHBHIPe5Qh0P",
        "outputId": "62dcb197-bf25-4a04-9ea7-b38952340da4",
        "colab": {
          "resources": {
            "http://localhost:8080/nbextensions/google.colab/files.js": {
              "data": "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",
              "ok": true,
              "headers": [
                [
                  "content-type",
                  "application/javascript"
                ]
              ],
              "status": 200,
              "status_text": ""
            }
          },
          "base_uri": "https://localhost:8080/",
          "height": 144
        }
      },
      "source": [
        "from google.colab import files\r\n",
        "myfile = files.upload()\r\n",
        "\r\n"
      ],
      "execution_count": 2,
      "outputs": [
        {
          "output_type": "display_data",
          "data": {
            "text/html": [
              "\n",
              "     <input type=\"file\" id=\"files-9df3d278-b055-4690-a0ed-1966a1bf76c7\" name=\"files[]\" multiple disabled\n",
              "        style=\"border:none\" />\n",
              "     <output id=\"result-9df3d278-b055-4690-a0ed-1966a1bf76c7\">\n",
              "      Upload widget is only available when the cell has been executed in the\n",
              "      current browser session. Please rerun this cell to enable.\n",
              "      </output>\n",
              "      <script src=\"/nbextensions/google.colab/files.js\"></script> "
            ],
            "text/plain": [
              "<IPython.core.display.HTML object>"
            ]
          },
          "metadata": {
            "tags": []
          }
        },
        {
          "output_type": "stream",
          "text": [
            "Saving KODEX 코스닥150 선물인버스.csv to KODEX 코스닥150 선물인버스.csv\n",
            "Saving 삼성전자.csv to 삼성전자.csv\n",
            "Saving 삼성전자0115.csv to 삼성전자0115.csv\n"
          ],
          "name": "stdout"
        }
      ]
    },
    {
      "cell_type": "code",
      "metadata": {
        "id": "cJ_f1CUnVulZ",
        "outputId": "78dd8eaf-cb74-4772-bb26-042facfecc22",
        "colab": {
          "base_uri": "https://localhost:8080/"
        }
      },
      "source": [
        "import os\r\n",
        "from google.colab import drive\r\n",
        "drive.mount('/content/drive/')"
      ],
      "execution_count": 4,
      "outputs": [
        {
          "output_type": "stream",
          "text": [
            "Mounted at /content/drive/\n"
          ],
          "name": "stdout"
        }
      ]
    },
    {
      "cell_type": "code",
      "metadata": {
        "id": "B0d1zfCoQ5Lw",
        "outputId": "76c4240b-207b-4f1a-9040-684c2d246ae3",
        "colab": {
          "base_uri": "https://localhost:8080/"
        }
      },
      "source": [
        "import numpy as np\r\n",
        "import pandas as pd\r\n",
        "import io\r\n",
        "# from pandas import read_csv\r\n",
        "# df = read_csv('c:/data/test/삼성전자.csv', index_col=0, header=0)\r\n",
        "df = pd.read_csv(io.BytesIO(myfile['삼성전자.csv']), index_col=0, header=0, encoding='cp949')\r\n",
        "\r\n",
        "\r\n",
        "print(df.shape) # (2400, 14)\r\n",
        "#Index(['시가', '고가', '저가', '종가', '등락률', '거래량', '금액(백만)', '신용비', '개인', '기관',\r\n",
        "#       '외인(수량)', '외국계', '프로그램', '외인비']\r\n",
        "\r\n",
        "# str -> int, 불필요한 행 제거\r\n",
        "df = df.drop(['2018-05-03','2018-05-02','2018-04-30'])\r\n",
        "df['시가'] =df['시가'].str.replace(',','').astype('int64')\r\n",
        "df['고가'] =df['고가'].str.replace(',','').astype('int64')\r\n",
        "df['저가'] =df['저가'].str.replace(',','').astype('int64')\r\n",
        "df['종가'] =df['종가'].str.replace(',','').astype('int64')\r\n",
        "df['거래량'] =df['거래량'].str.replace(',','').astype('int64')\r\n",
        "df['금액(백만)'] =df['금액(백만)'].str.replace(',','').astype('int64')\r\n",
        "df['개인'] =df['개인'].str.replace(',','').astype('int64')\r\n",
        "df['기관'] =df['기관'].str.replace(',','').astype('int64')\r\n",
        "df['외인(수량)'] =df['외인(수량)'].str.replace(',','').astype('int64')\r\n",
        "df['외국계'] =df['외국계'].str.replace(',','').astype('int64')\r\n",
        "df['프로그램'] =df['프로그램'].str.replace(',','').astype('int64')\r\n",
        "print(df.shape)\r\n",
        "\r\n",
        "# 데이터 추가, str -> float\r\n",
        "# df2 = read_csv('c:/data/test/삼성전자0115.csv', encoding='cp949', index_col=0, header=0, thousands=',')\r\n",
        "df2 = pd.read_csv(io.BytesIO(myfile['삼성전자0115.csv']), encoding='cp949', index_col=0, header=0, thousands=',')\r\n",
        "df2 = df2.dropna()\r\n",
        "df2 = df2.drop(['전일비','Unnamed: 6'], axis=1)\r\n",
        "\r\n",
        "# 중복 데이터 제거\r\n",
        "print(df.shape)\r\n",
        "df = df.drop(['2021-01-13'])\r\n",
        "df2 = df2.drop(df2.index[3:])\r\n",
        "print(df2.shape)\r\n",
        "\r\n",
        "\r\n",
        "# 액면분할 이전 데이터 주가변환\r\n",
        "df = df[::-1]\r\n",
        "df2 = df2[::-1]\r\n",
        "df.loc[:'2018-05-04','시가':'종가'] = (df.loc[:'2018-05-04','시가':'종가'])/50.\r\n",
        "df.loc[:'2018-05-04','거래량'] = (df.loc[:'2018-05-04','거래량'])*50.\r\n",
        "df.loc[:'2018-05-04','개인':'프로그램'] = (df.loc[:'2018-05-04','개인':'프로그램'])*50.\r\n",
        "\r\n",
        "# 데이터 병합\r\n",
        "df = pd.concat([df, df2], axis=0)\r\n",
        "print(df.shape)\r\n",
        "print(df.tail())\r\n",
        "\r\n",
        "# 타겟(y값) 설정\r\n",
        "dataset_y = df.iloc[:,0]\r\n",
        "df['Target'] = dataset_y\r\n",
        "\r\n",
        "# 불필요한 특성 제거\r\n",
        "# df = df.drop(['거래량','신용비','외인비'], axis=1)\r\n",
        "# df = df.drop(['개인','기관','외인(수량)','외국계','프로그램'], axis=1)\r\n",
        "print(df.shape)\r\n",
        "\r\n",
        "# csv -> npy 후 저장\r\n",
        "data = df.values\r\n",
        "print(data)\r\n",
        "# np.save('c:/data/test/samsung_jusik2.npy', arr=data)\r\n",
        "np.save('/content/drive/My Drive/data/test/samsung_jusik.npy', arr=data)\r\n",
        "\r\n"
      ],
      "execution_count": 11,
      "outputs": [
        {
          "output_type": "stream",
          "text": [
            "(2400, 14)\n",
            "(2397, 14)\n",
            "(2397, 14)\n",
            "(3, 14)\n",
            "(2399, 14)\n",
            "                 시가       고가       저가  ...        외국계       프로그램    외인비\n",
            "일자                                     ...                             \n",
            "2021-01-11  90000.0  96800.0  89500.0  ... -4979740.0 -6795684.0  55.59\n",
            "2021-01-12  90300.0  91400.0  87800.0  ... -2093652.0 -4498684.0  55.56\n",
            "2021/01/13  89800.0  91200.0  89100.0  ... -2774590.0 -2190774.0  55.52\n",
            "2021/01/14  88700.0  90000.0  88700.0  ...  2193784.0 -1091335.0  55.57\n",
            "2021/01/15  89800.0  91800.0  88000.0  ...  -261904.0 -3522801.0  55.57\n",
            "\n",
            "[5 rows x 14 columns]\n",
            "(2399, 15)\n",
            "[[ 1.782000e+04  1.784000e+04  1.732000e+04 ...  3.567500e+05\n",
            "   5.088000e+01  1.782000e+04]\n",
            " [ 1.706000e+04  1.750000e+04  1.706000e+04 ... -7.192500e+05\n",
            "   5.090000e+01  1.706000e+04]\n",
            " [ 1.778000e+04  1.832000e+04  1.772000e+04 ...  3.235600e+06\n",
            "   5.093000e+01  1.778000e+04]\n",
            " ...\n",
            " [ 8.980000e+04  9.120000e+04  8.910000e+04 ... -2.190774e+06\n",
            "   5.552000e+01  8.980000e+04]\n",
            " [ 8.870000e+04  9.000000e+04  8.870000e+04 ... -1.091335e+06\n",
            "   5.557000e+01  8.870000e+04]\n",
            " [ 8.980000e+04  9.180000e+04  8.800000e+04 ... -3.522801e+06\n",
            "   5.557000e+01  8.980000e+04]]\n"
          ],
          "name": "stdout"
        }
      ]
    },
    {
      "cell_type": "code",
      "metadata": {
        "id": "b8pTtjPGXHyr",
        "outputId": "52e28221-29bc-4394-9f9b-e9ba2cb70c7b",
        "colab": {
          "base_uri": "https://localhost:8080/"
        }
      },
      "source": [
        "import numpy as np\r\n",
        "import pandas as pd\r\n",
        "import io\r\n",
        "# from pandas import read_csv\r\n",
        "# df = read_csv('c:/data/test/삼성전자.csv', index_col=0, header=0)\r\n",
        "df = pd.read_csv(io.BytesIO(myfile['KODEX 코스닥150 선물인버스.csv']), index_col=0, header=0, encoding='cp949', thousands=',')\r\n",
        "\r\n",
        "\r\n",
        "print(df.shape) # (2400, 14)\r\n",
        "#Index(['시가', '고가', '저가', '종가', '등락률', '거래량', '금액(백만)', '신용비', '개인', '기관',\r\n",
        "#       '외인(수량)', '외국계', '프로그램', '외인비']\r\n",
        "\r\n",
        "# # str -> int, 불필요한 행 제거\r\n",
        "df = df.drop(['2018/05/03','2018/05/02','2018/04/30'])\r\n",
        "# df['시가'] =df['시가'].str.replace(',','').astype('int64')\r\n",
        "# df['고가'] =df['고가'].str.replace(',','').astype('int64')\r\n",
        "# df['저가'] =df['저가'].str.replace(',','').astype('int64')\r\n",
        "# df['종가'] =df['종가'].str.replace(',','').astype('int64')\r\n",
        "# df['거래량'] =df['거래량'].str.replace(',','').astype('int64')\r\n",
        "# df['금액(백만)'] =df['금액(백만)'].str.replace(',','').astype('int64')\r\n",
        "# df['개인'] =df['개인'].str.replace(',','').astype('int64')\r\n",
        "# df['기관'] =df['기관'].str.replace(',','').astype('int64')\r\n",
        "# df['외인(수량)'] =df['외인(수량)'].str.replace(',','').astype('int64')\r\n",
        "# df['외국계'] =df['외국계'].str.replace(',','').astype('int64')\r\n",
        "# df['프로그램'] =df['프로그램'].str.replace(',','').astype('int64')\r\n",
        "# print(df.shape)\r\n",
        "\r\n",
        "# 데이터 추가, str -> float\r\n",
        "# df2 = read_csv('c:/data/test/삼성전자0115.csv', encoding='cp949', index_col=0, header=0, thousands=',')\r\n",
        "# df2 = pd.read_csv(io.BytesIO(myfile['삼성전자0115.csv']), encoding='cp949', index_col=0, header=0, thousands=',')\r\n",
        "df = df.dropna()\r\n",
        "df = df.drop(['전일비','Unnamed: 6'], axis=1)\r\n",
        "\r\n",
        "# # 중복 데이터 제거\r\n",
        "# print(df.shape)\r\n",
        "# df = df.drop(['2021-01-13'])\r\n",
        "# df2 = df2.drop(df2.index[3:])\r\n",
        "# print(df2.shape)\r\n",
        "df = df[::-1]\r\n",
        "\r\n",
        "# # 액면분할 이전 데이터 주가변환\r\n",
        "# df = df[::-1]\r\n",
        "# df2 = df2[::-1]\r\n",
        "# df.loc[:'2018-05-04','시가':'종가'] = (df.loc[:'2018-05-04','시가':'종가'])/50.\r\n",
        "# df.loc[:'2018-05-04','거래량'] = (df.loc[:'2018-05-04','거래량'])*50.\r\n",
        "# df.loc[:'2018-05-04','개인':'프로그램'] = (df.loc[:'2018-05-04','개인':'프로그램'])*50.\r\n",
        "\r\n",
        "# # 데이터 병합\r\n",
        "# df = pd.concat([df, df2], axis=0)\r\n",
        "# print(df.shape)\r\n",
        "# print(df.tail())\r\n",
        "\r\n",
        "# # 타겟(y값) 설정\r\n",
        "# dataset_y = df.iloc[:,0]\r\n",
        "# df['Target'] = dataset_y\r\n",
        "\r\n",
        "# 불필요한 특성 제거\r\n",
        "# df = df.drop(['거래량','신용비','외인비'], axis=1)\r\n",
        "# df = df.drop(['개인','기관','외인(수량)','외국계','프로그램'], axis=1)\r\n",
        "print(df.shape)\r\n",
        "\r\n",
        "# csv -> npy 후 저장\r\n",
        "data = df.values\r\n",
        "print(data)\r\n",
        "# np.save('c:/data/test/samsung_jusik2.npy', arr=data)\r\n",
        "np.save('/content/drive/My Drive/data/test/kodex_jusik.npy', arr=data)\r\n"
      ],
      "execution_count": 12,
      "outputs": [
        {
          "output_type": "stream",
          "text": [
            "(1088, 16)\n",
            "(1085, 14)\n",
            "[[1.0000e+04 1.0000e+04 9.8650e+03 ... 0.0000e+00 0.0000e+00 0.0000e+00]\n",
            " [9.8900e+03 1.0025e+04 9.8650e+03 ... 0.0000e+00 0.0000e+00 0.0000e+00]\n",
            " [1.0020e+04 1.0025e+04 9.9450e+03 ... 0.0000e+00 0.0000e+00 0.0000e+00]\n",
            " ...\n",
            " [4.3700e+03 4.4100e+03 4.3350e+03 ... 0.0000e+00 0.0000e+00 4.4000e+00]\n",
            " [4.4000e+03 4.4400e+03 4.3800e+03 ... 0.0000e+00 0.0000e+00 4.5400e+00]\n",
            " [4.4200e+03 4.5450e+03 4.4050e+03 ... 0.0000e+00 0.0000e+00 4.5200e+00]]\n"
          ],
          "name": "stdout"
        }
      ]
    },
    {
      "cell_type": "code",
      "metadata": {
        "id": "cD9J1-TOYJTn",
        "outputId": "7f59deda-2f94-41e2-d00b-4288d8020c9c",
        "colab": {
          "base_uri": "https://localhost:8080/"
        }
      },
      "source": [
        "import numpy as np\r\n",
        "import pandas as pd\r\n",
        "\r\n",
        "# 1. 데이터\r\n",
        "data1 = np.load('/content/drive/My Drive/data/test/samsung_jusik.npy')\r\n",
        "data2 = np.load('/content/drive/My Drive/data/test/kodex_jusik.npy')\r\n",
        "\r\n",
        "x1 = data1[1314:,:-1]\r\n",
        "x2 = data2\r\n",
        "y = data1[1314:,-1]\r\n",
        "print(x1.shape, x2.shape)\r\n",
        "print(y.shape)\r\n",
        "\r\n",
        "from sklearn.preprocessing import MinMaxScaler\r\n",
        "scaler1 = MinMaxScaler()\r\n",
        "scaler1.fit(x1)\r\n",
        "x1 = scaler1.transform(x1)\r\n",
        "\r\n",
        "scaler2 = MinMaxScaler()\r\n",
        "scaler2.fit(x2)\r\n",
        "x2 = scaler2.transform(x2)\r\n",
        "\r\n",
        "size = 6\r\n",
        "\r\n",
        "def split_x(seq, size):\r\n",
        "    aaa = []\r\n",
        "    for i in range(len(seq)-size+1):\r\n",
        "        subset = seq[i : (i+size)]\r\n",
        "        aaa.append([item for item in subset])\r\n",
        "    print(type(aaa))\r\n",
        "    return np.array(aaa)\r\n",
        "x1_data = split_x(x1, size)\r\n",
        "x2_data = split_x(x2, size)\r\n",
        "\r\n",
        "x1 = x1_data[:-2,:,:]\r\n",
        "x2 = x2_data[:-2,:,:]\r\n",
        "\r\n",
        "size = 2\r\n",
        "y = split_x(y, 2)\r\n",
        "y = y[6:]\r\n",
        "print(x1.shape, x2.shape)\r\n",
        "print(y.shape)\r\n",
        "\r\n",
        "\r\n",
        "from sklearn.model_selection import train_test_split\r\n",
        "x1_train, x1_test, x2_train, x2_test, y_train, y_test = train_test_split(x1, x2, y, train_size=0.8, shuffle=True, random_state=66)\r\n",
        "\r\n",
        "\r\n",
        "#2. 모델구성\r\n",
        "from tensorflow.keras.models import Model\r\n",
        "from tensorflow.keras.layers import Dense, Input, LSTM, Dropout, Conv1D, Flatten, MaxPooling1D, GRU, SimpleRNN\r\n",
        "# inputs = Input(shape=(6, x.shape[2]))\r\n",
        "# dense1 = Conv1D(1000, 2, padding='same', activation='relu')(inputs)\r\n",
        "# dense1 = MaxPooling1D(pool_size=2)(dense1)\r\n",
        "# dense1 = Conv1D(500, 2, activation='relu')(dense1)\r\n",
        "# dense1 = Conv1D(400, 2,activation='relu')(dense1)\r\n",
        "# dense1 = Flatten()(dense1)\r\n",
        "\r\n",
        "\r\n",
        "# 모델 1\r\n",
        "input1 = Input(shape=(6,x1.shape[2]))\r\n",
        "dense1 = LSTM(512)(input1)\r\n",
        "dense1 = Dense(256)(dense1)\r\n",
        "dense1 = Dense(128)(dense1)\r\n",
        "dense1 = Dense(64)(dense1)\r\n",
        "dense1 = Dense(32)(dense1)\r\n",
        "dense1 = Dense(16)(dense1)\r\n",
        "dense1 = Dense(8)(dense1)\r\n",
        "dense1 = Dense(4)(dense1)\r\n",
        "dense1 = Dense(2)(dense1)\r\n",
        "\r\n",
        "\r\n",
        "# 모델 2\r\n",
        "input2 = Input(shape=(6,x2.shape[2]))\r\n",
        "dense2 = LSTM(128)(input2)\r\n",
        "dense2 = Dense(64)(dense2)\r\n",
        "dense2 = Dense(32)(dense2)\r\n",
        "dense2 = Dense(16)(dense2)\r\n",
        "dense2 = Dense(8)(dense2)\r\n",
        "dense2 = Dense(4)(dense2)\r\n",
        "dense2 = Dense(2)(dense2)\r\n",
        "\r\n",
        "\r\n",
        "from tensorflow.keras.layers import concatenate, Concatenate\r\n",
        "merge1 = concatenate([dense1, dense2])\r\n",
        "middle1 = Dense(128)(merge1)\r\n",
        "middle1 = Dense(64)(middle1)\r\n",
        "middle1 = Dense(32)(middle1)\r\n",
        "middle1 = Dense(16)(middle1)\r\n",
        "middle1 = Dense(8)(middle1)\r\n",
        "middle1 = Dense(4)(middle1)\r\n",
        "outputs = Dense(2)(middle1)\r\n",
        "\r\n",
        "\r\n",
        "\r\n",
        "\r\n",
        "\r\n",
        "model = Model(inputs=[input1,input2], outputs=outputs)\r\n",
        "\r\n",
        "\r\n",
        "#3. 컴파일, 훈련\r\n",
        "model.compile(loss='mse', optimizer='adam', metrics=['mae'])\r\n",
        "from tensorflow.keras.callbacks import EarlyStopping, ModelCheckpoint\r\n",
        "# es = EarlyStopping(monitor='val_loss', patience=80, mode='auto')\r\n",
        "modelpath= '/content/drive/My Drive/data/test/modelcheckpoint/samsung_checkpoint_{val_loss:.4f}.hdf5'\r\n",
        "cp = ModelCheckpoint(modelpath, monitor='val_loss', save_best_only=True, mode='auto')\r\n",
        "model.fit([x1_train,x2_train], y_train, batch_size=64, epochs=1000, validation_split=0.2, callbacks=[cp])\r\n",
        "\r\n",
        "model.save('/content/drive/My Drive/data/test/samsung_model.h5')\r\n",
        "\r\n",
        "#4. 평가, 예측\r\n",
        "loss, mae = model.evaluate([x1_test,x2_test], y_test, batch_size=64)\r\n",
        "y_predict = model.predict([x1_test, x2_test])\r\n",
        "print(\"loss, mae : \", loss, mae)\r\n",
        "\r\n",
        "from sklearn.metrics import mean_squared_error\r\n",
        "def RMSE(y_test, y_predict):\r\n",
        "    return np.sqrt(mean_squared_error(y_test, y_predict))\r\n",
        "print(\"RMSE : \", RMSE(y_test, y_predict))\r\n",
        "\r\n",
        "from sklearn.metrics import r2_score\r\n",
        "r2 = r2_score(y_test, y_predict)\r\n",
        "print(\"R2 : \", r2)\r\n",
        "\r\n",
        "x1_pred = x1_data[-2:,:,:]\r\n",
        "x2_pred = x2_data[-2:,:,:]\r\n",
        "x1_pred = x1_pred.reshape(x_pred.shape[0],6,x_pred.shape[-1])\r\n",
        "x2_pred = x2_pred.reshape(x_pred.shape[0],6,x_pred.shape[-1])\r\n",
        "y_predict = model.predict([x1_pred,x2_pred])\r\n",
        "y_price = int(np.round(y_predict[-1]))\r\n",
        "\r\n",
        "# for i in range(1,(x_pred.shape[0])):\r\n",
        "#     subset = ([int(y_predict[i-1]),y[-(x_pred.shape[0])+i]])\r\n",
        "#     print(subset)\r\n",
        "\r\n",
        "\r\n",
        "print(\"익일 삼성 주가 : \", y_price, \"원\")\r\n"
      ],
      "execution_count": null,
      "outputs": [
        {
          "output_type": "stream",
          "text": [
            "(1085, 14) (1085, 14)\n",
            "(1085,)\n",
            "<class 'list'>\n",
            "<class 'list'>\n",
            "<class 'list'>\n",
            "(1078, 6, 14) (1078, 6, 14)\n",
            "(1078, 2)\n",
            "Epoch 1/1000\n",
            "11/11 [==============================] - 10s 91ms/step - loss: 2342190314.6667 - mae: 47615.8197 - val_loss: 2296166656.0000 - val_mae: 47141.0234\n",
            "Epoch 2/1000\n",
            "11/11 [==============================] - 0s 11ms/step - loss: 2024838282.6667 - mae: 44036.9639 - val_loss: 405551296.0000 - val_mae: 16035.8408\n",
            "Epoch 3/1000\n",
            "11/11 [==============================] - 0s 11ms/step - loss: 415020789.3333 - mae: 16725.3996 - val_loss: 226259056.0000 - val_mae: 12802.0400\n",
            "Epoch 4/1000\n",
            "11/11 [==============================] - 0s 11ms/step - loss: 165717913.3333 - mae: 10516.2899 - val_loss: 95274880.0000 - val_mae: 7412.6147\n",
            "Epoch 5/1000\n",
            "11/11 [==============================] - 0s 11ms/step - loss: 107614274.0000 - mae: 8004.6207 - val_loss: 96089216.0000 - val_mae: 7678.4038\n",
            "Epoch 6/1000\n",
            "11/11 [==============================] - 0s 10ms/step - loss: 90440900.6667 - mae: 7160.4549 - val_loss: 78415064.0000 - val_mae: 6118.6670\n",
            "Epoch 7/1000\n",
            "11/11 [==============================] - 0s 11ms/step - loss: 73903207.3333 - mae: 6175.6125 - val_loss: 76049848.0000 - val_mae: 5934.7925\n",
            "Epoch 8/1000\n",
            "11/11 [==============================] - 0s 11ms/step - loss: 76367315.3333 - mae: 6254.1910 - val_loss: 74503952.0000 - val_mae: 5937.3491\n",
            "Epoch 9/1000\n",
            "11/11 [==============================] - 0s 10ms/step - loss: 69519391.6667 - mae: 6168.1634 - val_loss: 74423992.0000 - val_mae: 6046.2529\n",
            "Epoch 10/1000\n",
            "11/11 [==============================] - 0s 10ms/step - loss: 70208190.3333 - mae: 6121.6732 - val_loss: 76237080.0000 - val_mae: 6255.5645\n",
            "Epoch 11/1000\n",
            "11/11 [==============================] - 0s 10ms/step - loss: 75274486.0000 - mae: 6410.1579 - val_loss: 74138760.0000 - val_mae: 5970.6895\n",
            "Epoch 12/1000\n",
            "11/11 [==============================] - 0s 11ms/step - loss: 79308076.6667 - mae: 6319.9003 - val_loss: 74117016.0000 - val_mae: 5953.1909\n",
            "Epoch 13/1000\n",
            "11/11 [==============================] - 0s 11ms/step - loss: 77410738.6667 - mae: 6419.7753 - val_loss: 74107416.0000 - val_mae: 5952.0571\n",
            "Epoch 14/1000\n",
            "11/11 [==============================] - 0s 11ms/step - loss: 70785425.3333 - mae: 6022.8714 - val_loss: 74873936.0000 - val_mae: 6119.3657\n",
            "Epoch 15/1000\n",
            "11/11 [==============================] - 0s 11ms/step - loss: 79771242.0000 - mae: 6505.6685 - val_loss: 74177720.0000 - val_mae: 6011.0317\n",
            "Epoch 16/1000\n",
            "11/11 [==============================] - 0s 21ms/step - loss: 75033117.3333 - mae: 6389.6736 - val_loss: 77720008.0000 - val_mae: 6051.9580\n",
            "Epoch 17/1000\n",
            "11/11 [==============================] - 0s 10ms/step - loss: 84585311.3333 - mae: 6665.6632 - val_loss: 76873184.0000 - val_mae: 5997.8491\n",
            "Epoch 18/1000\n",
            "11/11 [==============================] - 0s 11ms/step - loss: 71286657.6667 - mae: 6118.1110 - val_loss: 78079480.0000 - val_mae: 6125.2324\n",
            "Epoch 19/1000\n",
            "11/11 [==============================] - 0s 10ms/step - loss: 77209512.6667 - mae: 6498.6563 - val_loss: 67210936.0000 - val_mae: 5587.5073\n",
            "Epoch 20/1000\n",
            "11/11 [==============================] - 0s 10ms/step - loss: 68705449.0000 - mae: 6045.9445 - val_loss: 53179948.0000 - val_mae: 5565.0029\n",
            "Epoch 21/1000\n",
            "11/11 [==============================] - 0s 10ms/step - loss: 46276949.3333 - mae: 5106.8539 - val_loss: 45146392.0000 - val_mae: 5055.2354\n",
            "Epoch 22/1000\n",
            "11/11 [==============================] - 0s 11ms/step - loss: 41659848.6667 - mae: 4717.8927 - val_loss: 42359748.0000 - val_mae: 4795.7427\n",
            "Epoch 23/1000\n",
            "11/11 [==============================] - 0s 10ms/step - loss: 43700655.6667 - mae: 4887.7842 - val_loss: 35448436.0000 - val_mae: 4729.9155\n",
            "Epoch 24/1000\n",
            "11/11 [==============================] - 0s 11ms/step - loss: 28463620.0000 - mae: 4211.4216 - val_loss: 34070680.0000 - val_mae: 4591.1431\n",
            "Epoch 25/1000\n",
            "11/11 [==============================] - 0s 11ms/step - loss: 29390436.3333 - mae: 4151.2894 - val_loss: 24937596.0000 - val_mae: 4043.8289\n",
            "Epoch 26/1000\n",
            "11/11 [==============================] - 0s 11ms/step - loss: 25712710.0000 - mae: 3889.5136 - val_loss: 25888828.0000 - val_mae: 3962.3281\n",
            "Epoch 27/1000\n",
            "11/11 [==============================] - 0s 11ms/step - loss: 22177507.8333 - mae: 3605.2688 - val_loss: 24923982.0000 - val_mae: 4050.4705\n",
            "Epoch 28/1000\n",
            "11/11 [==============================] - 0s 10ms/step - loss: 24728271.8333 - mae: 3846.9332 - val_loss: 28191368.0000 - val_mae: 4197.4751\n",
            "Epoch 29/1000\n",
            "11/11 [==============================] - 0s 11ms/step - loss: 25010909.0000 - mae: 3876.9772 - val_loss: 25290094.0000 - val_mae: 3947.8887\n",
            "Epoch 30/1000\n",
            "11/11 [==============================] - 0s 11ms/step - loss: 21341863.5000 - mae: 3479.0590 - val_loss: 22945378.0000 - val_mae: 3814.1011\n",
            "Epoch 31/1000\n",
            "11/11 [==============================] - 0s 10ms/step - loss: 20178394.6667 - mae: 3456.4025 - val_loss: 22145048.0000 - val_mae: 3664.7412\n",
            "Epoch 32/1000\n",
            "11/11 [==============================] - 0s 10ms/step - loss: 21916109.1667 - mae: 3552.6874 - val_loss: 22988380.0000 - val_mae: 3693.9358\n",
            "Epoch 33/1000\n",
            "11/11 [==============================] - 0s 10ms/step - loss: 20922195.0000 - mae: 3613.9354 - val_loss: 22296198.0000 - val_mae: 3579.5940\n",
            "Epoch 34/1000\n",
            "11/11 [==============================] - 0s 10ms/step - loss: 19244363.5000 - mae: 3361.0548 - val_loss: 21892140.0000 - val_mae: 3621.8088\n",
            "Epoch 35/1000\n",
            "11/11 [==============================] - 0s 11ms/step - loss: 18843584.5000 - mae: 3353.0375 - val_loss: 23012412.0000 - val_mae: 3795.1379\n",
            "Epoch 36/1000\n",
            "11/11 [==============================] - 0s 10ms/step - loss: 22339243.0000 - mae: 3504.8569 - val_loss: 20838724.0000 - val_mae: 3610.0061\n",
            "Epoch 37/1000\n",
            "11/11 [==============================] - 0s 10ms/step - loss: 19187909.6667 - mae: 3414.1479 - val_loss: 26810226.0000 - val_mae: 4202.3765\n",
            "Epoch 38/1000\n",
            "11/11 [==============================] - 0s 10ms/step - loss: 21154083.8333 - mae: 3682.9172 - val_loss: 21600056.0000 - val_mae: 3579.8455\n",
            "Epoch 39/1000\n",
            "11/11 [==============================] - 0s 11ms/step - loss: 18752729.9167 - mae: 3343.1628 - val_loss: 23177432.0000 - val_mae: 3794.9060\n",
            "Epoch 40/1000\n",
            "11/11 [==============================] - 0s 10ms/step - loss: 19670280.5000 - mae: 3321.8315 - val_loss: 18813944.0000 - val_mae: 3292.9629\n",
            "Epoch 41/1000\n",
            "11/11 [==============================] - 0s 10ms/step - loss: 17292039.5000 - mae: 3061.0306 - val_loss: 18498830.0000 - val_mae: 3285.7947\n",
            "Epoch 42/1000\n",
            "11/11 [==============================] - 0s 11ms/step - loss: 16403389.8333 - mae: 3070.4025 - val_loss: 18135040.0000 - val_mae: 3327.4893\n",
            "Epoch 43/1000\n",
            "11/11 [==============================] - 0s 11ms/step - loss: 16601875.9167 - mae: 3152.2975 - val_loss: 18376954.0000 - val_mae: 3337.0979\n",
            "Epoch 44/1000\n",
            "11/11 [==============================] - 0s 11ms/step - loss: 15689083.9167 - mae: 3053.9295 - val_loss: 18271178.0000 - val_mae: 3311.7476\n",
            "Epoch 45/1000\n",
            "11/11 [==============================] - 0s 11ms/step - loss: 16210802.7500 - mae: 2971.2908 - val_loss: 18203832.0000 - val_mae: 3301.9114\n",
            "Epoch 46/1000\n",
            "11/11 [==============================] - 0s 12ms/step - loss: 16825185.1667 - mae: 3168.5906 - val_loss: 17364116.0000 - val_mae: 3290.1899\n",
            "Epoch 47/1000\n",
            "11/11 [==============================] - 0s 17ms/step - loss: 17210177.5833 - mae: 3013.8561 - val_loss: 17583520.0000 - val_mae: 3325.3115\n",
            "Epoch 48/1000\n",
            "11/11 [==============================] - 0s 19ms/step - loss: 14279914.6667 - mae: 2824.7364 - val_loss: 15951736.0000 - val_mae: 3147.3684\n",
            "Epoch 49/1000\n",
            "11/11 [==============================] - 0s 18ms/step - loss: 15395784.8333 - mae: 2984.7657 - val_loss: 14774466.0000 - val_mae: 3090.4133\n",
            "Epoch 50/1000\n",
            "11/11 [==============================] - 0s 16ms/step - loss: 16058468.3333 - mae: 2993.6804 - val_loss: 15604109.0000 - val_mae: 3207.8779\n",
            "Epoch 51/1000\n",
            "11/11 [==============================] - 0s 16ms/step - loss: 15366556.0833 - mae: 2963.9745 - val_loss: 15413668.0000 - val_mae: 3124.6204\n",
            "Epoch 52/1000\n",
            "11/11 [==============================] - 0s 15ms/step - loss: 14470247.9167 - mae: 2830.8739 - val_loss: 15293080.0000 - val_mae: 3101.2427\n",
            "Epoch 53/1000\n",
            "11/11 [==============================] - 0s 16ms/step - loss: 13736171.8333 - mae: 2791.5823 - val_loss: 17902100.0000 - val_mae: 3321.9780\n",
            "Epoch 54/1000\n",
            "11/11 [==============================] - 0s 17ms/step - loss: 14931436.5833 - mae: 2946.9125 - val_loss: 15794685.0000 - val_mae: 3189.6113\n",
            "Epoch 55/1000\n",
            "11/11 [==============================] - 0s 14ms/step - loss: 16569688.8333 - mae: 3023.1153 - val_loss: 19390990.0000 - val_mae: 3552.6594\n",
            "Epoch 56/1000\n",
            "11/11 [==============================] - 0s 15ms/step - loss: 14179018.8333 - mae: 2906.7943 - val_loss: 13428567.0000 - val_mae: 2922.2415\n",
            "Epoch 57/1000\n",
            "11/11 [==============================] - 0s 13ms/step - loss: 13347407.3333 - mae: 2673.8357 - val_loss: 13118597.0000 - val_mae: 2828.6523\n",
            "Epoch 58/1000\n",
            "11/11 [==============================] - 0s 15ms/step - loss: 10825486.8333 - mae: 2424.0163 - val_loss: 12663203.0000 - val_mae: 2819.1492\n",
            "Epoch 59/1000\n",
            "11/11 [==============================] - 0s 13ms/step - loss: 11813519.0833 - mae: 2622.8329 - val_loss: 11783390.0000 - val_mae: 2712.5676\n",
            "Epoch 60/1000\n",
            "11/11 [==============================] - 0s 12ms/step - loss: 11754551.5000 - mae: 2625.0119 - val_loss: 13012220.0000 - val_mae: 2846.8193\n",
            "Epoch 61/1000\n",
            "11/11 [==============================] - 0s 11ms/step - loss: 12817835.2500 - mae: 2571.4719 - val_loss: 12083110.0000 - val_mae: 2720.3616\n",
            "Epoch 62/1000\n",
            "11/11 [==============================] - 0s 11ms/step - loss: 16361332.6667 - mae: 2689.3293 - val_loss: 11014023.0000 - val_mae: 2612.9292\n",
            "Epoch 63/1000\n",
            "11/11 [==============================] - 0s 11ms/step - loss: 9699310.0000 - mae: 2355.7162 - val_loss: 10778313.0000 - val_mae: 2557.6975\n",
            "Epoch 64/1000\n",
            "11/11 [==============================] - 0s 13ms/step - loss: 10508150.0000 - mae: 2439.3739 - val_loss: 12584448.0000 - val_mae: 2795.0601\n",
            "Epoch 65/1000\n",
            "11/11 [==============================] - 0s 13ms/step - loss: 10472428.5000 - mae: 2475.1465 - val_loss: 13706731.0000 - val_mae: 2923.1882\n",
            "Epoch 66/1000\n",
            "11/11 [==============================] - 0s 11ms/step - loss: 11986593.2500 - mae: 2686.0620 - val_loss: 13299093.0000 - val_mae: 2954.5518\n",
            "Epoch 67/1000\n",
            "11/11 [==============================] - 0s 14ms/step - loss: 12779877.0000 - mae: 2798.5302 - val_loss: 11328263.0000 - val_mae: 2714.1914\n",
            "Epoch 68/1000\n",
            "11/11 [==============================] - 0s 11ms/step - loss: 10804851.1667 - mae: 2508.5098 - val_loss: 9944220.0000 - val_mae: 2491.8210\n",
            "Epoch 69/1000\n",
            "11/11 [==============================] - 0s 11ms/step - loss: 9563414.5000 - mae: 2337.7131 - val_loss: 10698432.0000 - val_mae: 2554.4622\n",
            "Epoch 70/1000\n",
            "11/11 [==============================] - 0s 11ms/step - loss: 10919960.2500 - mae: 2558.0239 - val_loss: 13195541.0000 - val_mae: 2930.1760\n",
            "Epoch 71/1000\n",
            "11/11 [==============================] - 0s 11ms/step - loss: 10397502.7500 - mae: 2447.8621 - val_loss: 9963095.0000 - val_mae: 2511.3740\n",
            "Epoch 72/1000\n",
            "11/11 [==============================] - 0s 10ms/step - loss: 9286327.0000 - mae: 2309.5476 - val_loss: 11692374.0000 - val_mae: 2653.7773\n",
            "Epoch 73/1000\n",
            "11/11 [==============================] - 0s 15ms/step - loss: 12269778.0000 - mae: 2544.3326 - val_loss: 10227975.0000 - val_mae: 2502.4658\n",
            "Epoch 74/1000\n",
            "11/11 [==============================] - 0s 11ms/step - loss: 10915640.0833 - mae: 2296.3725 - val_loss: 11093642.0000 - val_mae: 2576.6677\n",
            "Epoch 75/1000\n",
            "11/11 [==============================] - 0s 11ms/step - loss: 14260616.0833 - mae: 2481.7796 - val_loss: 10531874.0000 - val_mae: 2607.7490\n",
            "Epoch 76/1000\n",
            "11/11 [==============================] - 0s 13ms/step - loss: 9237694.6667 - mae: 2329.5412 - val_loss: 9533871.0000 - val_mae: 2447.7671\n",
            "Epoch 77/1000\n",
            "11/11 [==============================] - 0s 11ms/step - loss: 9506389.5417 - mae: 2337.5915 - val_loss: 13267856.0000 - val_mae: 2889.5356\n",
            "Epoch 78/1000\n",
            "11/11 [==============================] - 0s 10ms/step - loss: 9294361.3333 - mae: 2250.9730 - val_loss: 8313788.0000 - val_mae: 2287.0813\n",
            "Epoch 79/1000\n",
            "11/11 [==============================] - 0s 11ms/step - loss: 8726799.0417 - mae: 2267.9940 - val_loss: 8991182.0000 - val_mae: 2363.8057\n",
            "Epoch 80/1000\n",
            "11/11 [==============================] - 0s 22ms/step - loss: 12673358.9167 - mae: 2246.9182 - val_loss: 8067795.5000 - val_mae: 2247.1726\n",
            "Epoch 81/1000\n",
            "11/11 [==============================] - 0s 12ms/step - loss: 9471871.6250 - mae: 2078.3955 - val_loss: 10354333.0000 - val_mae: 2521.1614\n",
            "Epoch 82/1000\n",
            "11/11 [==============================] - 0s 16ms/step - loss: 8960949.9583 - mae: 2109.2230 - val_loss: 8327561.5000 - val_mae: 2206.6216\n",
            "Epoch 83/1000\n",
            "11/11 [==============================] - 0s 11ms/step - loss: 8069347.7917 - mae: 1985.7669 - val_loss: 8826080.0000 - val_mae: 2249.2173\n",
            "Epoch 84/1000\n",
            "11/11 [==============================] - 0s 11ms/step - loss: 6690300.8750 - mae: 1930.5819 - val_loss: 7503085.5000 - val_mae: 2144.8804\n",
            "Epoch 85/1000\n",
            "11/11 [==============================] - 0s 11ms/step - loss: 11372759.2500 - mae: 2103.8267 - val_loss: 6824056.0000 - val_mae: 2033.7092\n",
            "Epoch 86/1000\n",
            "11/11 [==============================] - 0s 17ms/step - loss: 11145244.0000 - mae: 1999.4871 - val_loss: 6814512.0000 - val_mae: 2037.4960\n",
            "Epoch 87/1000\n",
            "11/11 [==============================] - 0s 11ms/step - loss: 5916859.8333 - mae: 1732.6328 - val_loss: 6493438.0000 - val_mae: 1999.9473\n",
            "Epoch 88/1000\n",
            "11/11 [==============================] - 0s 11ms/step - loss: 11243840.5000 - mae: 2027.1318 - val_loss: 11020146.0000 - val_mae: 2653.1545\n",
            "Epoch 89/1000\n",
            "11/11 [==============================] - 0s 17ms/step - loss: 11322123.8333 - mae: 2250.3883 - val_loss: 6577391.5000 - val_mae: 2004.0083\n",
            "Epoch 90/1000\n",
            "11/11 [==============================] - 0s 14ms/step - loss: 10381055.7917 - mae: 2075.4190 - val_loss: 7668478.5000 - val_mae: 2202.8982\n",
            "Epoch 91/1000\n",
            "11/11 [==============================] - 0s 13ms/step - loss: 6410345.3750 - mae: 1864.5525 - val_loss: 6483323.0000 - val_mae: 1988.3713\n",
            "Epoch 92/1000\n",
            "11/11 [==============================] - 0s 11ms/step - loss: 6417965.8333 - mae: 1923.4275 - val_loss: 8383587.0000 - val_mae: 2285.1145\n",
            "Epoch 93/1000\n",
            "11/11 [==============================] - 0s 10ms/step - loss: 9349548.9583 - mae: 1989.2130 - val_loss: 7092077.0000 - val_mae: 2052.4187\n",
            "Epoch 94/1000\n",
            "11/11 [==============================] - 0s 10ms/step - loss: 6364529.5000 - mae: 1758.5441 - val_loss: 7299590.0000 - val_mae: 2072.6836\n",
            "Epoch 95/1000\n",
            "11/11 [==============================] - 0s 14ms/step - loss: 7099003.8750 - mae: 1958.7944 - val_loss: 8344834.0000 - val_mae: 2218.2576\n",
            "Epoch 96/1000\n",
            "11/11 [==============================] - 0s 11ms/step - loss: 8957694.0417 - mae: 1983.3105 - val_loss: 9927164.0000 - val_mae: 2432.7324\n",
            "Epoch 97/1000\n",
            "11/11 [==============================] - 0s 10ms/step - loss: 8600486.2083 - mae: 2224.9482 - val_loss: 8166712.0000 - val_mae: 2179.9111\n",
            "Epoch 98/1000\n",
            "11/11 [==============================] - 0s 11ms/step - loss: 7380326.4167 - mae: 1969.6252 - val_loss: 6252405.0000 - val_mae: 1967.8140\n",
            "Epoch 99/1000\n",
            "11/11 [==============================] - 0s 10ms/step - loss: 6938207.5417 - mae: 1897.1604 - val_loss: 7893701.0000 - val_mae: 2299.1045\n",
            "Epoch 100/1000\n",
            "11/11 [==============================] - 0s 10ms/step - loss: 9667486.5833 - mae: 1869.6309 - val_loss: 6497502.5000 - val_mae: 1933.2603\n",
            "Epoch 101/1000\n",
            "11/11 [==============================] - 0s 10ms/step - loss: 4853464.8750 - mae: 1618.2209 - val_loss: 6737642.0000 - val_mae: 2022.1145\n",
            "Epoch 102/1000\n",
            "11/11 [==============================] - 0s 10ms/step - loss: 8024476.4583 - mae: 1942.8287 - val_loss: 6255287.5000 - val_mae: 1944.7915\n",
            "Epoch 103/1000\n",
            "11/11 [==============================] - 0s 14ms/step - loss: 7484349.4583 - mae: 1857.6777 - val_loss: 5920395.5000 - val_mae: 1881.4160\n",
            "Epoch 104/1000\n",
            "11/11 [==============================] - 0s 11ms/step - loss: 9860345.7917 - mae: 1866.6385 - val_loss: 6845246.0000 - val_mae: 2053.5955\n",
            "Epoch 105/1000\n",
            "11/11 [==============================] - 0s 10ms/step - loss: 7103697.8750 - mae: 1880.7693 - val_loss: 6681182.0000 - val_mae: 1998.4252\n",
            "Epoch 106/1000\n",
            "11/11 [==============================] - 0s 11ms/step - loss: 5144409.3333 - mae: 1661.1534 - val_loss: 6667387.5000 - val_mae: 2039.7778\n",
            "Epoch 107/1000\n",
            "11/11 [==============================] - 0s 12ms/step - loss: 11184305.8333 - mae: 2061.4624 - val_loss: 7407671.0000 - val_mae: 2149.1394\n",
            "Epoch 108/1000\n",
            "11/11 [==============================] - 0s 11ms/step - loss: 6999359.0000 - mae: 1899.0309 - val_loss: 5384288.0000 - val_mae: 1850.8419\n",
            "Epoch 109/1000\n",
            "11/11 [==============================] - 0s 14ms/step - loss: 4898500.5000 - mae: 1681.4776 - val_loss: 5640639.5000 - val_mae: 1857.3170\n",
            "Epoch 110/1000\n",
            "11/11 [==============================] - 0s 11ms/step - loss: 5406869.5833 - mae: 1677.3861 - val_loss: 5444543.5000 - val_mae: 1808.1373\n",
            "Epoch 111/1000\n",
            "11/11 [==============================] - 0s 15ms/step - loss: 5330812.8333 - mae: 1656.7012 - val_loss: 5711992.0000 - val_mae: 1822.3965\n",
            "Epoch 112/1000\n",
            "11/11 [==============================] - 0s 11ms/step - loss: 5873093.4167 - mae: 1682.6616 - val_loss: 5724094.5000 - val_mae: 1882.6364\n",
            "Epoch 113/1000\n",
            "11/11 [==============================] - 0s 11ms/step - loss: 6410702.0000 - mae: 1701.0360 - val_loss: 5154823.0000 - val_mae: 1800.8073\n",
            "Epoch 114/1000\n",
            "11/11 [==============================] - 0s 12ms/step - loss: 4373787.6875 - mae: 1527.6312 - val_loss: 5139806.5000 - val_mae: 1738.1766\n",
            "Epoch 115/1000\n",
            "11/11 [==============================] - 0s 13ms/step - loss: 6318874.0000 - mae: 1661.4516 - val_loss: 5117025.0000 - val_mae: 1810.2379\n",
            "Epoch 116/1000\n",
            "11/11 [==============================] - 0s 12ms/step - loss: 4979203.1667 - mae: 1575.4211 - val_loss: 5162358.0000 - val_mae: 1782.8219\n",
            "Epoch 117/1000\n",
            "11/11 [==============================] - 0s 14ms/step - loss: 4923813.3125 - mae: 1511.1612 - val_loss: 5006863.0000 - val_mae: 1750.9379\n",
            "Epoch 118/1000\n",
            "11/11 [==============================] - 0s 12ms/step - loss: 4757536.1458 - mae: 1565.3581 - val_loss: 8497451.0000 - val_mae: 2270.1294\n",
            "Epoch 119/1000\n",
            "11/11 [==============================] - 0s 11ms/step - loss: 7416136.4583 - mae: 2009.5199 - val_loss: 8087931.0000 - val_mae: 2290.8682\n",
            "Epoch 120/1000\n",
            "11/11 [==============================] - 0s 10ms/step - loss: 10197292.6667 - mae: 1885.9159 - val_loss: 8749667.0000 - val_mae: 2339.6768\n",
            "Epoch 121/1000\n",
            "11/11 [==============================] - 0s 13ms/step - loss: 7266008.7917 - mae: 1948.8183 - val_loss: 7868889.0000 - val_mae: 2068.8259\n",
            "Epoch 122/1000\n",
            "11/11 [==============================] - 0s 13ms/step - loss: 5194245.2708 - mae: 1664.1973 - val_loss: 6863823.0000 - val_mae: 1943.9338\n",
            "Epoch 123/1000\n",
            "11/11 [==============================] - 0s 11ms/step - loss: 6551097.6667 - mae: 1746.1860 - val_loss: 5403493.5000 - val_mae: 1769.5140\n",
            "Epoch 124/1000\n",
            "11/11 [==============================] - 0s 11ms/step - loss: 6662154.3333 - mae: 1690.8995 - val_loss: 5065846.5000 - val_mae: 1787.6096\n",
            "Epoch 125/1000\n",
            "11/11 [==============================] - 0s 11ms/step - loss: 6893775.1042 - mae: 1635.2447 - val_loss: 5876837.5000 - val_mae: 1896.8953\n",
            "Epoch 126/1000\n",
            "11/11 [==============================] - 0s 11ms/step - loss: 7603416.5833 - mae: 1818.4795 - val_loss: 4769791.5000 - val_mae: 1743.5752\n",
            "Epoch 127/1000\n",
            "11/11 [==============================] - 0s 11ms/step - loss: 4900237.3333 - mae: 1563.6955 - val_loss: 4163839.2500 - val_mae: 1596.0072\n",
            "Epoch 128/1000\n",
            "11/11 [==============================] - 0s 11ms/step - loss: 8279581.4167 - mae: 1542.0999 - val_loss: 4308189.0000 - val_mae: 1624.6936\n",
            "Epoch 129/1000\n",
            "11/11 [==============================] - 0s 15ms/step - loss: 8103387.9167 - mae: 1483.0280 - val_loss: 5678962.5000 - val_mae: 1881.5592\n",
            "Epoch 130/1000\n",
            "11/11 [==============================] - 0s 11ms/step - loss: 5292869.0208 - mae: 1589.0538 - val_loss: 4831725.0000 - val_mae: 1733.0825\n",
            "Epoch 131/1000\n",
            "11/11 [==============================] - 0s 10ms/step - loss: 6540002.4583 - mae: 1589.9524 - val_loss: 4808813.0000 - val_mae: 1690.6431\n",
            "Epoch 132/1000\n",
            "11/11 [==============================] - 0s 10ms/step - loss: 4273744.1458 - mae: 1516.3591 - val_loss: 4668840.0000 - val_mae: 1650.3710\n",
            "Epoch 133/1000\n",
            "11/11 [==============================] - 0s 11ms/step - loss: 4443841.8750 - mae: 1544.9090 - val_loss: 4154213.0000 - val_mae: 1599.9563\n",
            "Epoch 134/1000\n",
            "11/11 [==============================] - 0s 10ms/step - loss: 4763016.4375 - mae: 1546.4853 - val_loss: 5744470.0000 - val_mae: 1894.7002\n",
            "Epoch 135/1000\n",
            "11/11 [==============================] - 0s 10ms/step - loss: 9426411.9583 - mae: 1797.2074 - val_loss: 5030338.5000 - val_mae: 1759.0693\n",
            "Epoch 136/1000\n",
            "11/11 [==============================] - 0s 11ms/step - loss: 5650314.5833 - mae: 1635.5664 - val_loss: 4796480.5000 - val_mae: 1745.3008\n",
            "Epoch 137/1000\n",
            "11/11 [==============================] - 0s 11ms/step - loss: 5959783.0417 - mae: 1549.1846 - val_loss: 4261336.5000 - val_mae: 1639.4409\n",
            "Epoch 138/1000\n",
            "11/11 [==============================] - 0s 14ms/step - loss: 4601525.8958 - mae: 1521.1804 - val_loss: 4735063.5000 - val_mae: 1691.7894\n",
            "Epoch 139/1000\n",
            "11/11 [==============================] - 0s 12ms/step - loss: 6024930.1042 - mae: 1463.9141 - val_loss: 4734277.5000 - val_mae: 1652.3671\n",
            "Epoch 140/1000\n",
            "11/11 [==============================] - 0s 14ms/step - loss: 6640530.8125 - mae: 1602.7567 - val_loss: 4982020.5000 - val_mae: 1709.1752\n",
            "Epoch 141/1000\n",
            "11/11 [==============================] - 0s 22ms/step - loss: 5444219.5625 - mae: 1455.0247 - val_loss: 6317233.0000 - val_mae: 2040.7719\n",
            "Epoch 142/1000\n",
            "11/11 [==============================] - 0s 10ms/step - loss: 6618508.5000 - mae: 1828.3435 - val_loss: 6970186.5000 - val_mae: 2136.3696\n",
            "Epoch 143/1000\n",
            "11/11 [==============================] - 0s 11ms/step - loss: 5932457.9167 - mae: 1720.8752 - val_loss: 6278877.0000 - val_mae: 1988.6100\n",
            "Epoch 144/1000\n",
            "11/11 [==============================] - 0s 10ms/step - loss: 6017351.9583 - mae: 1692.8405 - val_loss: 4942035.5000 - val_mae: 1778.6115\n",
            "Epoch 145/1000\n",
            "11/11 [==============================] - 0s 10ms/step - loss: 7515055.2083 - mae: 1695.1629 - val_loss: 7905428.0000 - val_mae: 2243.5894\n",
            "Epoch 146/1000\n",
            "11/11 [==============================] - 0s 11ms/step - loss: 10617258.8333 - mae: 2014.1960 - val_loss: 4889639.0000 - val_mae: 1733.4985\n",
            "Epoch 147/1000\n",
            "11/11 [==============================] - 0s 10ms/step - loss: 4452681.2083 - mae: 1550.7658 - val_loss: 4594898.0000 - val_mae: 1685.0621\n",
            "Epoch 148/1000\n",
            "11/11 [==============================] - 0s 10ms/step - loss: 4899654.2917 - mae: 1511.2563 - val_loss: 5075181.0000 - val_mae: 1827.1893\n",
            "Epoch 149/1000\n",
            "11/11 [==============================] - 0s 12ms/step - loss: 5775171.9583 - mae: 1574.5667 - val_loss: 4155273.5000 - val_mae: 1610.7278\n",
            "Epoch 150/1000\n",
            "11/11 [==============================] - 0s 14ms/step - loss: 4460127.6458 - mae: 1487.2431 - val_loss: 4955561.0000 - val_mae: 1704.7655\n",
            "Epoch 151/1000\n",
            "11/11 [==============================] - 0s 17ms/step - loss: 8579639.0000 - mae: 1645.2190 - val_loss: 4406874.5000 - val_mae: 1635.7812\n",
            "Epoch 152/1000\n",
            "11/11 [==============================] - 0s 16ms/step - loss: 3765664.7917 - mae: 1408.2838 - val_loss: 6156829.5000 - val_mae: 1906.0332\n",
            "Epoch 153/1000\n",
            "11/11 [==============================] - 0s 10ms/step - loss: 5219814.0625 - mae: 1591.0510 - val_loss: 5447042.0000 - val_mae: 1752.1729\n",
            "Epoch 154/1000\n",
            "11/11 [==============================] - 0s 11ms/step - loss: 5428124.0625 - mae: 1504.6758 - val_loss: 4501088.0000 - val_mae: 1606.8826\n",
            "Epoch 155/1000\n",
            "11/11 [==============================] - 0s 11ms/step - loss: 5724658.8958 - mae: 1489.2911 - val_loss: 5644078.5000 - val_mae: 1704.4359\n",
            "Epoch 156/1000\n",
            "11/11 [==============================] - 0s 10ms/step - loss: 9904088.3333 - mae: 1656.9935 - val_loss: 4600017.5000 - val_mae: 1602.5112\n",
            "Epoch 157/1000\n",
            "11/11 [==============================] - 0s 11ms/step - loss: 3779338.1667 - mae: 1387.9997 - val_loss: 4531533.0000 - val_mae: 1639.8295\n",
            "Epoch 158/1000\n",
            "11/11 [==============================] - 0s 11ms/step - loss: 4682442.2500 - mae: 1494.6897 - val_loss: 6189517.0000 - val_mae: 1925.9985\n",
            "Epoch 159/1000\n",
            "11/11 [==============================] - 0s 10ms/step - loss: 9510886.8750 - mae: 1780.5205 - val_loss: 5625560.5000 - val_mae: 1880.8256\n",
            "Epoch 160/1000\n",
            "11/11 [==============================] - 0s 11ms/step - loss: 8100276.7917 - mae: 1810.8133 - val_loss: 4168606.7500 - val_mae: 1618.2421\n",
            "Epoch 161/1000\n",
            "11/11 [==============================] - 0s 11ms/step - loss: 5011057.9792 - mae: 1588.2659 - val_loss: 4276291.0000 - val_mae: 1633.8912\n",
            "Epoch 162/1000\n",
            "11/11 [==============================] - 0s 10ms/step - loss: 4158907.8542 - mae: 1481.8064 - val_loss: 4394617.5000 - val_mae: 1621.9556\n",
            "Epoch 163/1000\n",
            "11/11 [==============================] - 0s 11ms/step - loss: 5787145.4375 - mae: 1427.9777 - val_loss: 4837217.5000 - val_mae: 1695.8442\n",
            "Epoch 164/1000\n",
            "11/11 [==============================] - 0s 11ms/step - loss: 4172367.9375 - mae: 1386.1936 - val_loss: 4704033.5000 - val_mae: 1680.7776\n",
            "Epoch 165/1000\n",
            "11/11 [==============================] - 0s 11ms/step - loss: 4014650.1458 - mae: 1457.5060 - val_loss: 4546063.0000 - val_mae: 1641.6487\n",
            "Epoch 166/1000\n",
            "11/11 [==============================] - 0s 11ms/step - loss: 4484607.2292 - mae: 1441.8483 - val_loss: 4481960.5000 - val_mae: 1669.2183\n",
            "Epoch 167/1000\n",
            "11/11 [==============================] - 0s 11ms/step - loss: 5644754.2083 - mae: 1406.5453 - val_loss: 4520787.5000 - val_mae: 1637.5720\n",
            "Epoch 168/1000\n",
            "11/11 [==============================] - 0s 13ms/step - loss: 4726163.1458 - mae: 1425.3266 - val_loss: 4477522.5000 - val_mae: 1654.4360\n",
            "Epoch 169/1000\n",
            "11/11 [==============================] - 0s 12ms/step - loss: 3842957.4583 - mae: 1399.4825 - val_loss: 4350466.0000 - val_mae: 1650.2802\n",
            "Epoch 170/1000\n",
            "11/11 [==============================] - 0s 13ms/step - loss: 6529496.0208 - mae: 1721.2482 - val_loss: 5550397.5000 - val_mae: 1866.7417\n",
            "Epoch 171/1000\n",
            "11/11 [==============================] - 0s 12ms/step - loss: 6012228.6250 - mae: 1600.4491 - val_loss: 4968488.5000 - val_mae: 1734.6908\n",
            "Epoch 172/1000\n",
            "11/11 [==============================] - 0s 14ms/step - loss: 4623840.1875 - mae: 1524.8877 - val_loss: 7622053.5000 - val_mae: 2132.4727\n",
            "Epoch 173/1000\n",
            "11/11 [==============================] - 0s 12ms/step - loss: 5020027.3333 - mae: 1677.9858 - val_loss: 4438993.5000 - val_mae: 1583.5018\n",
            "Epoch 174/1000\n",
            "11/11 [==============================] - 0s 12ms/step - loss: 6560623.9583 - mae: 1492.2071 - val_loss: 5887555.5000 - val_mae: 1939.4589\n",
            "Epoch 175/1000\n",
            "11/11 [==============================] - 0s 11ms/step - loss: 4168319.8333 - mae: 1507.2581 - val_loss: 5298463.0000 - val_mae: 1741.9755\n",
            "Epoch 176/1000\n",
            "11/11 [==============================] - 0s 11ms/step - loss: 5882118.6875 - mae: 1555.6676 - val_loss: 4753780.5000 - val_mae: 1657.6908\n",
            "Epoch 177/1000\n",
            "11/11 [==============================] - 0s 11ms/step - loss: 4031397.6250 - mae: 1322.5911 - val_loss: 4535619.5000 - val_mae: 1588.4989\n",
            "Epoch 178/1000\n",
            "11/11 [==============================] - 0s 11ms/step - loss: 4379032.0208 - mae: 1410.0367 - val_loss: 5893752.5000 - val_mae: 1937.6232\n",
            "Epoch 179/1000\n",
            "11/11 [==============================] - 0s 10ms/step - loss: 6814927.9167 - mae: 1617.4875 - val_loss: 4242175.5000 - val_mae: 1573.0294\n",
            "Epoch 180/1000\n",
            "11/11 [==============================] - 0s 11ms/step - loss: 4239498.6667 - mae: 1398.3232 - val_loss: 4675828.0000 - val_mae: 1663.6792\n",
            "Epoch 181/1000\n",
            "11/11 [==============================] - 0s 11ms/step - loss: 4928928.8333 - mae: 1450.6402 - val_loss: 6014102.5000 - val_mae: 1956.9630\n",
            "Epoch 182/1000\n",
            "11/11 [==============================] - 0s 11ms/step - loss: 4565978.5625 - mae: 1558.9752 - val_loss: 5123048.0000 - val_mae: 1766.5688\n",
            "Epoch 183/1000\n",
            "11/11 [==============================] - 0s 12ms/step - loss: 5915653.4583 - mae: 1466.0878 - val_loss: 4418640.5000 - val_mae: 1671.5583\n",
            "Epoch 184/1000\n",
            "11/11 [==============================] - 0s 10ms/step - loss: 8743479.2083 - mae: 1625.1015 - val_loss: 5182166.0000 - val_mae: 1792.5123\n",
            "Epoch 185/1000\n",
            "11/11 [==============================] - 0s 13ms/step - loss: 9902097.3750 - mae: 1682.4029 - val_loss: 6379310.0000 - val_mae: 1937.6870\n",
            "Epoch 186/1000\n",
            "11/11 [==============================] - 0s 10ms/step - loss: 6117427.6667 - mae: 1667.1260 - val_loss: 9276345.0000 - val_mae: 2574.0547\n",
            "Epoch 187/1000\n",
            "11/11 [==============================] - 0s 11ms/step - loss: 8138825.6667 - mae: 1901.7826 - val_loss: 4307732.0000 - val_mae: 1596.2113\n",
            "Epoch 188/1000\n",
            "11/11 [==============================] - 0s 11ms/step - loss: 6452742.7500 - mae: 1571.8437 - val_loss: 7173560.0000 - val_mae: 2106.1890\n",
            "Epoch 189/1000\n",
            "11/11 [==============================] - 0s 11ms/step - loss: 6031407.9583 - mae: 1689.4026 - val_loss: 4307488.0000 - val_mae: 1549.7821\n",
            "Epoch 190/1000\n",
            "11/11 [==============================] - 0s 11ms/step - loss: 6258704.5833 - mae: 1425.3613 - val_loss: 4286546.5000 - val_mae: 1603.4634\n",
            "Epoch 191/1000\n",
            "11/11 [==============================] - 0s 22ms/step - loss: 6199728.2917 - mae: 1414.5206 - val_loss: 4914618.5000 - val_mae: 1705.6710\n",
            "Epoch 192/1000\n",
            "11/11 [==============================] - 0s 11ms/step - loss: 4179192.7083 - mae: 1454.7696 - val_loss: 4992967.0000 - val_mae: 1653.5338\n",
            "Epoch 193/1000\n",
            "11/11 [==============================] - 0s 11ms/step - loss: 3713016.8542 - mae: 1408.5691 - val_loss: 5900295.5000 - val_mae: 1901.1859\n",
            "Epoch 194/1000\n",
            "11/11 [==============================] - 0s 10ms/step - loss: 4491891.1667 - mae: 1504.2694 - val_loss: 4186132.0000 - val_mae: 1576.5839\n",
            "Epoch 195/1000\n",
            "11/11 [==============================] - 0s 11ms/step - loss: 3514131.3333 - mae: 1321.7622 - val_loss: 5649476.0000 - val_mae: 1939.7279\n",
            "Epoch 196/1000\n",
            "11/11 [==============================] - 0s 10ms/step - loss: 5148815.2292 - mae: 1603.1505 - val_loss: 3764406.5000 - val_mae: 1506.1652\n",
            "Epoch 197/1000\n",
            "11/11 [==============================] - 0s 11ms/step - loss: 4907916.1250 - mae: 1462.7643 - val_loss: 7047048.0000 - val_mae: 2112.3184\n",
            "Epoch 198/1000\n",
            "11/11 [==============================] - 0s 11ms/step - loss: 6780258.6667 - mae: 1830.2245 - val_loss: 3988340.2500 - val_mae: 1544.3179\n",
            "Epoch 199/1000\n",
            "11/11 [==============================] - 0s 10ms/step - loss: 3776724.2917 - mae: 1363.0293 - val_loss: 4481141.0000 - val_mae: 1555.7780\n",
            "Epoch 200/1000\n",
            "11/11 [==============================] - 0s 11ms/step - loss: 7784938.0000 - mae: 1441.3417 - val_loss: 4657350.5000 - val_mae: 1667.2267\n",
            "Epoch 201/1000\n",
            "11/11 [==============================] - 0s 10ms/step - loss: 3527057.4583 - mae: 1360.4606 - val_loss: 6034860.5000 - val_mae: 1956.7380\n",
            "Epoch 202/1000\n",
            "11/11 [==============================] - 0s 10ms/step - loss: 8847366.6667 - mae: 1753.6090 - val_loss: 5780266.5000 - val_mae: 1873.2106\n",
            "Epoch 203/1000\n",
            "11/11 [==============================] - 0s 12ms/step - loss: 6559901.2917 - mae: 1511.0063 - val_loss: 4262147.5000 - val_mae: 1568.0640\n",
            "Epoch 204/1000\n",
            "11/11 [==============================] - 0s 11ms/step - loss: 3869288.6667 - mae: 1235.5888 - val_loss: 4308846.5000 - val_mae: 1615.8279\n",
            "Epoch 205/1000\n",
            "11/11 [==============================] - 0s 11ms/step - loss: 6089183.6042 - mae: 1543.8317 - val_loss: 6660126.5000 - val_mae: 2068.7368\n",
            "Epoch 206/1000\n",
            "11/11 [==============================] - 0s 11ms/step - loss: 8002518.8333 - mae: 1824.8633 - val_loss: 5712247.0000 - val_mae: 1851.4235\n",
            "Epoch 207/1000\n",
            "11/11 [==============================] - 0s 11ms/step - loss: 4802865.8333 - mae: 1603.7457 - val_loss: 4652609.0000 - val_mae: 1625.8878\n",
            "Epoch 208/1000\n",
            "11/11 [==============================] - 0s 12ms/step - loss: 4904757.5208 - mae: 1513.1057 - val_loss: 4420508.5000 - val_mae: 1676.3990\n",
            "Epoch 209/1000\n",
            "11/11 [==============================] - 0s 11ms/step - loss: 5064257.4583 - mae: 1490.1746 - val_loss: 4732608.5000 - val_mae: 1614.4675\n",
            "Epoch 210/1000\n",
            "11/11 [==============================] - 0s 10ms/step - loss: 4044148.7500 - mae: 1392.6456 - val_loss: 4913152.5000 - val_mae: 1644.2877\n",
            "Epoch 211/1000\n",
            "11/11 [==============================] - 0s 11ms/step - loss: 4143810.1667 - mae: 1400.9278 - val_loss: 5420331.0000 - val_mae: 1776.5148\n",
            "Epoch 212/1000\n",
            "11/11 [==============================] - 0s 10ms/step - loss: 4979604.0000 - mae: 1527.8404 - val_loss: 6150199.0000 - val_mae: 1921.5654\n",
            "Epoch 213/1000\n",
            "11/11 [==============================] - 0s 12ms/step - loss: 4372549.7917 - mae: 1494.9152 - val_loss: 3972222.5000 - val_mae: 1501.2968\n",
            "Epoch 214/1000\n",
            "11/11 [==============================] - 0s 11ms/step - loss: 4038765.2083 - mae: 1347.4764 - val_loss: 3903318.2500 - val_mae: 1491.9453\n",
            "Epoch 215/1000\n",
            "11/11 [==============================] - 0s 11ms/step - loss: 7091515.9583 - mae: 1342.4153 - val_loss: 4119040.0000 - val_mae: 1575.4297\n",
            "Epoch 216/1000\n",
            "11/11 [==============================] - 0s 12ms/step - loss: 3092626.7708 - mae: 1192.9505 - val_loss: 4293268.0000 - val_mae: 1575.3120\n",
            "Epoch 217/1000\n",
            "11/11 [==============================] - 0s 10ms/step - loss: 4556202.3333 - mae: 1370.0974 - val_loss: 4766431.5000 - val_mae: 1664.1646\n",
            "Epoch 218/1000\n",
            "11/11 [==============================] - 0s 11ms/step - loss: 3394276.9375 - mae: 1258.3146 - val_loss: 5055334.0000 - val_mae: 1702.0671\n",
            "Epoch 219/1000\n",
            "11/11 [==============================] - 0s 11ms/step - loss: 5765696.4583 - mae: 1525.5766 - val_loss: 6695680.0000 - val_mae: 1945.2515\n",
            "Epoch 220/1000\n",
            "11/11 [==============================] - 0s 11ms/step - loss: 5388919.5000 - mae: 1614.1843 - val_loss: 4972704.0000 - val_mae: 1712.9387\n",
            "Epoch 221/1000\n",
            "11/11 [==============================] - 0s 11ms/step - loss: 5759403.6875 - mae: 1586.4960 - val_loss: 4709259.5000 - val_mae: 1663.2544\n",
            "Epoch 222/1000\n",
            "11/11 [==============================] - 0s 11ms/step - loss: 3171562.8125 - mae: 1296.2998 - val_loss: 4692681.0000 - val_mae: 1695.1744\n",
            "Epoch 223/1000\n",
            "11/11 [==============================] - 0s 11ms/step - loss: 5694718.5833 - mae: 1537.2660 - val_loss: 4149443.2500 - val_mae: 1558.1251\n",
            "Epoch 224/1000\n",
            "11/11 [==============================] - 0s 11ms/step - loss: 3219810.2083 - mae: 1305.6709 - val_loss: 4592934.0000 - val_mae: 1669.6393\n",
            "Epoch 225/1000\n",
            "11/11 [==============================] - 0s 11ms/step - loss: 5045003.6875 - mae: 1387.8258 - val_loss: 5002927.5000 - val_mae: 1701.8800\n",
            "Epoch 226/1000\n",
            "11/11 [==============================] - 0s 11ms/step - loss: 6640075.7917 - mae: 1463.4713 - val_loss: 5383180.5000 - val_mae: 1789.1279\n",
            "Epoch 227/1000\n",
            "11/11 [==============================] - 0s 11ms/step - loss: 4076698.0417 - mae: 1382.8684 - val_loss: 3831842.0000 - val_mae: 1504.7267\n",
            "Epoch 228/1000\n",
            "11/11 [==============================] - 0s 11ms/step - loss: 3938060.2083 - mae: 1258.5388 - val_loss: 4642724.0000 - val_mae: 1639.7568\n",
            "Epoch 229/1000\n",
            "11/11 [==============================] - 0s 11ms/step - loss: 4053589.9167 - mae: 1418.3073 - val_loss: 4818644.5000 - val_mae: 1698.7540\n",
            "Epoch 230/1000\n",
            "11/11 [==============================] - 0s 11ms/step - loss: 7934655.3750 - mae: 1540.9567 - val_loss: 6362514.5000 - val_mae: 1989.8557\n",
            "Epoch 231/1000\n",
            "11/11 [==============================] - 0s 11ms/step - loss: 5139370.8125 - mae: 1521.6589 - val_loss: 5361674.5000 - val_mae: 1794.9830\n",
            "Epoch 232/1000\n",
            "11/11 [==============================] - 0s 11ms/step - loss: 4894190.4167 - mae: 1580.5517 - val_loss: 4921474.5000 - val_mae: 1684.1461\n",
            "Epoch 233/1000\n",
            "11/11 [==============================] - 0s 10ms/step - loss: 5149671.1458 - mae: 1293.4471 - val_loss: 3933135.5000 - val_mae: 1518.6477\n",
            "Epoch 234/1000\n",
            "11/11 [==============================] - 0s 10ms/step - loss: 4057419.7812 - mae: 1231.0870 - val_loss: 3828805.5000 - val_mae: 1508.2810\n",
            "Epoch 235/1000\n",
            "11/11 [==============================] - 0s 11ms/step - loss: 4098066.6562 - mae: 1408.6884 - val_loss: 4829295.5000 - val_mae: 1676.2693\n",
            "Epoch 236/1000\n",
            "11/11 [==============================] - 0s 11ms/step - loss: 5516169.1667 - mae: 1479.7369 - val_loss: 7545413.5000 - val_mae: 2257.7080\n",
            "Epoch 237/1000\n",
            "11/11 [==============================] - 0s 11ms/step - loss: 8483656.2500 - mae: 1610.3032 - val_loss: 5494019.5000 - val_mae: 1835.9375\n",
            "Epoch 238/1000\n",
            "11/11 [==============================] - 0s 11ms/step - loss: 6759750.1875 - mae: 1489.6276 - val_loss: 4478152.5000 - val_mae: 1639.1981\n",
            "Epoch 239/1000\n",
            "11/11 [==============================] - 0s 11ms/step - loss: 3714314.9375 - mae: 1311.8844 - val_loss: 4747268.0000 - val_mae: 1593.7540\n",
            "Epoch 240/1000\n",
            "11/11 [==============================] - 0s 11ms/step - loss: 3249089.5833 - mae: 1277.9070 - val_loss: 5686856.5000 - val_mae: 1666.2717\n",
            "Epoch 241/1000\n",
            "11/11 [==============================] - 0s 10ms/step - loss: 5152333.6875 - mae: 1598.8155 - val_loss: 6902701.0000 - val_mae: 2122.2720\n",
            "Epoch 242/1000\n",
            "11/11 [==============================] - 0s 10ms/step - loss: 5448244.3542 - mae: 1700.7378 - val_loss: 5630346.5000 - val_mae: 1818.3121\n",
            "Epoch 243/1000\n",
            "11/11 [==============================] - 0s 22ms/step - loss: 4626964.9375 - mae: 1533.4282 - val_loss: 6085046.0000 - val_mae: 1935.3779\n",
            "Epoch 244/1000\n",
            "11/11 [==============================] - 0s 11ms/step - loss: 4147084.3333 - mae: 1496.9011 - val_loss: 4227460.5000 - val_mae: 1587.7019\n",
            "Epoch 245/1000\n",
            "11/11 [==============================] - 0s 12ms/step - loss: 2983952.5625 - mae: 1246.1628 - val_loss: 4627565.0000 - val_mae: 1650.1954\n",
            "Epoch 246/1000\n",
            "11/11 [==============================] - 0s 11ms/step - loss: 5635332.7500 - mae: 1484.4547 - val_loss: 5320651.5000 - val_mae: 1787.3362\n",
            "Epoch 247/1000\n",
            "11/11 [==============================] - 0s 11ms/step - loss: 4879003.3750 - mae: 1598.8866 - val_loss: 5496932.5000 - val_mae: 1849.9186\n",
            "Epoch 248/1000\n",
            "11/11 [==============================] - 0s 11ms/step - loss: 5444832.3125 - mae: 1422.5687 - val_loss: 3660696.0000 - val_mae: 1444.7706\n",
            "Epoch 249/1000\n",
            "11/11 [==============================] - 0s 11ms/step - loss: 5981021.6667 - mae: 1296.2517 - val_loss: 4778002.0000 - val_mae: 1686.9050\n",
            "Epoch 250/1000\n",
            "11/11 [==============================] - 0s 11ms/step - loss: 4787032.5625 - mae: 1353.2281 - val_loss: 4119913.5000 - val_mae: 1556.7034\n",
            "Epoch 251/1000\n",
            "11/11 [==============================] - 0s 11ms/step - loss: 8467613.4167 - mae: 1577.4582 - val_loss: 7057991.0000 - val_mae: 2205.3865\n",
            "Epoch 252/1000\n",
            "11/11 [==============================] - 0s 11ms/step - loss: 5075258.7708 - mae: 1609.1787 - val_loss: 4007367.5000 - val_mae: 1533.0782\n",
            "Epoch 253/1000\n",
            "11/11 [==============================] - 0s 11ms/step - loss: 5284174.9583 - mae: 1360.8516 - val_loss: 4479476.5000 - val_mae: 1544.8013\n",
            "Epoch 254/1000\n",
            "11/11 [==============================] - 0s 11ms/step - loss: 2866809.2708 - mae: 1181.9148 - val_loss: 5025247.0000 - val_mae: 1727.5731\n",
            "Epoch 255/1000\n",
            "11/11 [==============================] - 0s 11ms/step - loss: 5298170.2083 - mae: 1364.4422 - val_loss: 3965676.0000 - val_mae: 1505.3143\n",
            "Epoch 256/1000\n",
            "11/11 [==============================] - 0s 11ms/step - loss: 3294911.8125 - mae: 1205.8023 - val_loss: 4296164.0000 - val_mae: 1573.8844\n",
            "Epoch 257/1000\n",
            "11/11 [==============================] - 0s 11ms/step - loss: 4985584.2083 - mae: 1385.0961 - val_loss: 4603445.5000 - val_mae: 1643.1829\n",
            "Epoch 258/1000\n",
            "11/11 [==============================] - 0s 11ms/step - loss: 3352592.2083 - mae: 1189.0372 - val_loss: 4059865.5000 - val_mae: 1553.4989\n",
            "Epoch 259/1000\n",
            "11/11 [==============================] - 0s 11ms/step - loss: 3645465.5833 - mae: 1216.2094 - val_loss: 4146124.5000 - val_mae: 1539.0925\n",
            "Epoch 260/1000\n",
            "11/11 [==============================] - 0s 11ms/step - loss: 3526069.5312 - mae: 1167.4509 - val_loss: 3895949.2500 - val_mae: 1482.6855\n",
            "Epoch 261/1000\n",
            "11/11 [==============================] - 0s 12ms/step - loss: 4062539.5208 - mae: 1255.5243 - val_loss: 5554516.0000 - val_mae: 1758.1359\n",
            "Epoch 262/1000\n",
            "11/11 [==============================] - 0s 11ms/step - loss: 4248636.5417 - mae: 1399.9717 - val_loss: 5280382.5000 - val_mae: 1802.0568\n",
            "Epoch 263/1000\n",
            "11/11 [==============================] - 0s 10ms/step - loss: 4426390.5000 - mae: 1386.6541 - val_loss: 3975310.0000 - val_mae: 1516.2463\n",
            "Epoch 264/1000\n",
            "11/11 [==============================] - 0s 11ms/step - loss: 2995269.6146 - mae: 1174.4675 - val_loss: 4231905.5000 - val_mae: 1543.3351\n",
            "Epoch 265/1000\n",
            "11/11 [==============================] - 0s 11ms/step - loss: 3501977.1042 - mae: 1213.1892 - val_loss: 4781872.5000 - val_mae: 1694.4597\n",
            "Epoch 266/1000\n",
            "11/11 [==============================] - 0s 11ms/step - loss: 7430480.1250 - mae: 1398.1671 - val_loss: 5622739.5000 - val_mae: 1751.8787\n",
            "Epoch 267/1000\n",
            "11/11 [==============================] - 0s 12ms/step - loss: 4327557.7083 - mae: 1332.8264 - val_loss: 4067817.0000 - val_mae: 1541.0946\n",
            "Epoch 268/1000\n",
            "11/11 [==============================] - 0s 11ms/step - loss: 3725381.6875 - mae: 1270.3165 - val_loss: 4218151.5000 - val_mae: 1529.6356\n",
            "Epoch 269/1000\n",
            " 9/11 [=======================>......] - ETA: 0s - loss: 2753833.2500 - mae: 1208.2752"
          ],
          "name": "stdout"
        }
      ]
    },
    {
      "cell_type": "markdown",
      "metadata": {
        "id": "eikfzi8ZT_rW"
      },
      "source": [
        "# 로컬 파일 시스템"
      ]
    },
    {
      "cell_type": "markdown",
      "metadata": {
        "id": "BaCkyg5CV5jF"
      },
      "source": [
        "## 로컬 파일 시스템의 파일 업로드\n",
        "\n",
        "<code>files.upload</code>는 업로드된 파일의 사전을 반환합니다.\n",
        "사전은 업로드된 파일 이름에 따라 키가 지정되며, 값은 업로드된 데이터를 표시합니다."
      ]
    },
    {
      "cell_type": "code",
      "metadata": {
        "id": "vz-jH8T_Uk2c"
      },
      "source": [
        "from google.colab import files\n",
        "\n",
        "uploaded = files.upload()\n",
        "\n",
        "for fn in uploaded.keys():\n",
        "  print('User uploaded file \"{name}\" with length {length} bytes'.format(\n",
        "      name=fn, length=len(uploaded[fn])))"
      ],
      "execution_count": null,
      "outputs": []
    },
    {
      "cell_type": "markdown",
      "metadata": {
        "id": "hauvGV4hV-Mh"
      },
      "source": [
        "## 로컬 파일 시스템으로 파일 다운로드\n",
        "\n",
        "<code>files.download</code>는 파일의 브라우저 다운로드를 로컬 컴퓨터로 호출합니다.\n"
      ]
    },
    {
      "cell_type": "code",
      "metadata": {
        "id": "p2E4EKhCWEC5"
      },
      "source": [
        "from google.colab import files\n",
        "\n",
        "with open('example.txt', 'w') as f:\n",
        "  f.write('some content')\n",
        "\n",
        "files.download('example.txt')"
      ],
      "execution_count": null,
      "outputs": []
    },
    {
      "cell_type": "markdown",
      "metadata": {
        "id": "c2W5A2px3doP"
      },
      "source": [
        "# Google 드라이브\n",
        "\n",
        "다음과 같은 여러 가지 방법으로 드라이브에 있는 파일에 액세스할 수 있습니다.\n",
        "- 런타임 가상 머신에 Google 드라이브 마운트\n",
        "- <a href=\"https://gsuitedevs.github.io/PyDrive/docs/build/html/index.html\">PyDrive</a>와 같은 API에 래퍼 사용\n",
        "- <a href=\"https://developers.google.com/drive/v3/web/about-sdk\">네이티브 REST API</a> 사용\n",
        "\n",
        "\n",
        "\n",
        "각각의 예시는 다음과 같습니다."
      ]
    },
    {
      "cell_type": "markdown",
      "metadata": {
        "id": "u22w3BFiOveA"
      },
      "source": [
        "## 로컬에 Google 드라이브 마운트하기\n",
        "\n",
        "아래의 예시에서는 승인 코드를 사용해 런타임에 Google 드라이브를 마운트하는 방법 및 이 드라이브에서 파일을 쓰고 읽는 방법을 보여 줍니다. 이 예시를 실행하면 <a href=\"https://drive.google.com/\">https://drive.google.com/</a>에 새 파일&#40;<code>foo.txt</code>&#41;이 표시됩니다.\n",
        "\n",
        "이 방법으로는 파일을 읽고, 쓰고 이동하는 작업만 가능하므로 프로그래매틱 방식으로 공유 설정이나 기타 메타데이터를 수정하려면 아래의 다른 옵션 중 하나를 사용하세요.\n",
        "\n",
        "<strong>참고:</strong> 파일 브라우저의 '드라이브 마운트' 버튼을 사용할 때 현재 사용자만 수정한 메모장에 대해서는 인증 코드는 필요하지 않습니다."
      ]
    },
    {
      "cell_type": "code",
      "metadata": {
        "colab": {
          "base_uri": "https://localhost:8080/",
          "height": 109
        },
        "id": "RWSJpsyKqHjH",
        "outputId": "15bd239f-5a6a-447d-dd22-01ee5398b991"
      },
      "source": [
        "from google.colab import drive\n",
        "drive.mount('/content/drive')"
      ],
      "execution_count": null,
      "outputs": [
        {
          "output_type": "stream",
          "text": [
            "Go to this URL in a browser: https://accounts.google.com/o/oauth2/auth?client_id=947318989803-6bn6qk8qdgf4n4g3pfee6491hc0brc4i.apps.googleusercontent.com&redirect_uri=urn%3Aietf%3Awg%3Aoauth%3A2.0%3Aoob&scope=email%20https%3A%2F%2Fwww.googleapis.com%2Fauth%2Fdocs.test%20https%3A%2F%2Fwww.googleapis.com%2Fauth%2Fdrive%20https%3A%2F%2Fwww.googleapis.com%2Fauth%2Fdrive.photos.readonly%20https%3A%2F%2Fwww.googleapis.com%2Fauth%2Fpeopleapi.readonly&response_type=code\n",
            "Enter your authorization code:\n",
            "··········\n",
            "Mounted at /content/drive\n"
          ],
          "name": "stdout"
        }
      ]
    },
    {
      "cell_type": "code",
      "metadata": {
        "colab": {
          "base_uri": "https://localhost:8080/",
          "height": 35
        },
        "id": "XDg9OBaYqRMd",
        "outputId": "5df8b65d-20d2-4956-b8a7-e99d4579d567"
      },
      "source": [
        "with open('/content/drive/My Drive/foo.txt', 'w') as f:\n",
        "  f.write('Hello Google Drive!')\n",
        "!cat /content/drive/My\\ Drive/foo.txt"
      ],
      "execution_count": null,
      "outputs": [
        {
          "output_type": "stream",
          "text": [
            "Hello Google Drive!"
          ],
          "name": "stdout"
        }
      ]
    },
    {
      "cell_type": "code",
      "metadata": {
        "colab": {
          "base_uri": "https://localhost:8080/",
          "height": 34
        },
        "id": "D78AM1fFt2ty",
        "outputId": "f7117bc5-2ffd-4c0a-8809-f9fed79b4682"
      },
      "source": [
        "drive.flush_and_unmount()\n",
        "print('All changes made in this colab session should now be visible in Drive.')"
      ],
      "execution_count": null,
      "outputs": [
        {
          "output_type": "stream",
          "text": [
            "All changes made in this colab session should now be visible in Drive.\n"
          ],
          "name": "stdout"
        }
      ]
    },
    {
      "cell_type": "markdown",
      "metadata": {
        "id": "7taylj9wpsA2"
      },
      "source": [
        "## PyDrive\n",
        "\n",
        "아래 예시에서는 PyDrive를 사용한 인증 및 파일 업로드/다운로드 방법을 확인할 수 있습니다. <a href=\"https://gsuitedevs.github.io/PyDrive/docs/build/html/index.html\">PyDrive 도움말</a>에서 더 많은 예시를 살펴보세요."
      ]
    },
    {
      "cell_type": "code",
      "metadata": {
        "id": "zU5b6dlRwUQk"
      },
      "source": [
        "from pydrive.auth import GoogleAuth\n",
        "from pydrive.drive import GoogleDrive\n",
        "from google.colab import auth\n",
        "from oauth2client.client import GoogleCredentials"
      ],
      "execution_count": null,
      "outputs": []
    },
    {
      "cell_type": "markdown",
      "metadata": {
        "id": "XkHZtRhm09QS"
      },
      "source": [
        "PyDrive 클라이언트를 인증하고 만듭니다.\n"
      ]
    },
    {
      "cell_type": "code",
      "metadata": {
        "id": "1w7lrGcW08Ds"
      },
      "source": [
        "auth.authenticate_user()\n",
        "gauth = GoogleAuth()\n",
        "gauth.credentials = GoogleCredentials.get_application_default()\n",
        "drive = GoogleDrive(gauth)"
      ],
      "execution_count": null,
      "outputs": []
    },
    {
      "cell_type": "markdown",
      "metadata": {
        "id": "ZF3Topk31DCF"
      },
      "source": [
        "텍스트 파일을 만들고 업로드합니다.\n"
      ]
    },
    {
      "cell_type": "code",
      "metadata": {
        "colab": {
          "base_uri": "https://localhost:8080/",
          "height": 34
        },
        "id": "vBuUW-q41tb7",
        "outputId": "e5558ef2-e5db-4e4e-9f01-186e9dd4bc26"
      },
      "source": [
        "uploaded = drive.CreateFile({'title': 'Sample upload.txt'})\n",
        "uploaded.SetContentString('Sample upload file content')\n",
        "uploaded.Upload()\n",
        "print('Uploaded file with ID {}'.format(uploaded.get('id')))"
      ],
      "execution_count": null,
      "outputs": [
        {
          "output_type": "stream",
          "text": [
            "Uploaded file with ID 14vDAdqp7BSCQnoougmgylBexIr2AQx2T\n"
          ],
          "name": "stdout"
        }
      ]
    },
    {
      "cell_type": "markdown",
      "metadata": {
        "id": "bbOFN3d_1tcG"
      },
      "source": [
        "ID별로 파일을 로드하고 파일 내용을 출력합니다.\n"
      ]
    },
    {
      "cell_type": "code",
      "metadata": {
        "colab": {
          "base_uri": "https://localhost:8080/",
          "height": 34
        },
        "id": "eFOvsAYk1tcH",
        "outputId": "c8f0e09a-f873-4c43-8211-5f0a0c5e0e5f"
      },
      "source": [
        "downloaded = drive.CreateFile({'id': uploaded.get('id')})\n",
        "print('Downloaded content \"{}\"'.format(downloaded.GetContentString()))"
      ],
      "execution_count": null,
      "outputs": [
        {
          "output_type": "stream",
          "text": [
            "Downloaded content \"Sample upload file content\"\n"
          ],
          "name": "stdout"
        }
      ]
    },
    {
      "cell_type": "markdown",
      "metadata": {
        "id": "jRQ5_yMcqJiV"
      },
      "source": [
        "## Drive REST API\n",
        "\n",
        "Drive API를 사용하려면 인증한 다음 API 클라이언트를 구성해야 합니다.\n"
      ]
    },
    {
      "cell_type": "code",
      "metadata": {
        "id": "r-exJtdG3XwJ"
      },
      "source": [
        "from google.colab import auth\n",
        "auth.authenticate_user()\n",
        "from googleapiclient.discovery import build\n",
        "drive_service = build('drive', 'v3')"
      ],
      "execution_count": null,
      "outputs": []
    },
    {
      "cell_type": "markdown",
      "metadata": {
        "id": "eDLm7MHQEr2U"
      },
      "source": [
        "이 클라이언트를 사용하면 <a href=\"https://developers.google.com/drive/v3/reference/\">Google Drive API 참조</a>에 있는 모든 기능을 사용할 수 있습니다. 기능의 예시는 다음과 같습니다.\n"
      ]
    },
    {
      "cell_type": "markdown",
      "metadata": {
        "id": "bRFyEsdfBxJ9"
      },
      "source": [
        "### Python 데이터로 새 드라이브 파일 만들기\n",
        "\n",
        "먼저 업로드할 로컬 파일을 만듭니다."
      ]
    },
    {
      "cell_type": "code",
      "metadata": {
        "colab": {
          "base_uri": "https://localhost:8080/",
          "height": 53
        },
        "id": "F1-nafvN-NwW",
        "outputId": "4466d27b-edd0-4ef1-8a10-0e180a231af2"
      },
      "source": [
        "with open('/tmp/to_upload.txt', 'w') as f:\n",
        "  f.write('my sample file')\n",
        "\n",
        "print('/tmp/to_upload.txt contains:')\n",
        "!cat /tmp/to_upload.txt"
      ],
      "execution_count": null,
      "outputs": [
        {
          "output_type": "stream",
          "text": [
            "/tmp/to_upload.txt contains:\n",
            "my sample file"
          ],
          "name": "stdout"
        }
      ]
    },
    {
      "cell_type": "markdown",
      "metadata": {
        "id": "r5X77CZ5_G-C"
      },
      "source": [
        "<a href=\"https://developers.google.com/drive/v3/reference/files/create\"><code>files.create</code></a> 방식을 사용해 업로드합니다. 업로드 파일에 관한 추가 정보는 <a href=\"https://developers.google.com/drive/v3/web/manage-uploads\">개발자 도움말</a>에서 확인할 수 있습니다."
      ]
    },
    {
      "cell_type": "code",
      "metadata": {
        "colab": {
          "base_uri": "https://localhost:8080/",
          "height": 35
        },
        "id": "3Jv6jh6HEpP8",
        "outputId": "cfc1186f-68a1-4620-a18f-99bc6d83e82e"
      },
      "source": [
        "from googleapiclient.http import MediaFileUpload\n",
        "\n",
        "file_metadata = {\n",
        "  'name': 'Sample file',\n",
        "  'mimeType': 'text/plain'\n",
        "}\n",
        "media = MediaFileUpload('/tmp/to_upload.txt', \n",
        "                        mimetype='text/plain',\n",
        "                        resumable=True)\n",
        "created = drive_service.files().create(body=file_metadata,\n",
        "                                       media_body=media,\n",
        "                                       fields='id').execute()\n",
        "print('File ID: {}'.format(created.get('id')))"
      ],
      "execution_count": null,
      "outputs": [
        {
          "output_type": "stream",
          "text": [
            "File ID: 1Cw9CqiyU6zbXFD9ViPZu_3yX-sYF4W17\n"
          ],
          "name": "stdout"
        }
      ]
    },
    {
      "cell_type": "markdown",
      "metadata": {
        "id": "j5VyISCKFrqU"
      },
      "source": [
        "위의 셀을 실행하면 <a href=\"https://drive.google.com/\">https://drive.google.com/</a>에 'Sample file'이라는 새 파일이 표시됩니다."
      ]
    },
    {
      "cell_type": "markdown",
      "metadata": {
        "id": "P3KX0Sm0E2sF"
      },
      "source": [
        "### 드라이브 파일 데이터를 Python으로 다운로드\n",
        "\n",
        "위에서 업로드한 파일을 다운로드합니다."
      ]
    },
    {
      "cell_type": "code",
      "metadata": {
        "colab": {
          "base_uri": "https://localhost:8080/",
          "height": 34
        },
        "id": "hEzpzWYWsYKg",
        "outputId": "57c1ac51-a8ec-497e-db77-f34fd974ac2f"
      },
      "source": [
        "file_id = created.get('id')\n",
        "\n",
        "import io\n",
        "from googleapiclient.http import MediaIoBaseDownload\n",
        "\n",
        "request = drive_service.files().get_media(fileId=file_id)\n",
        "downloaded = io.BytesIO()\n",
        "downloader = MediaIoBaseDownload(downloaded, request)\n",
        "done = False\n",
        "while done is False:\n",
        "  # _ is a placeholder for a progress object that we ignore.\n",
        "  # (Our file is small, so we skip reporting progress.)\n",
        "  _, done = downloader.next_chunk()\n",
        "\n",
        "downloaded.seek(0)\n",
        "print('Downloaded file contents are: {}'.format(downloaded.read()))"
      ],
      "execution_count": null,
      "outputs": [
        {
          "output_type": "stream",
          "text": [
            "Downloaded file contents are: b'my sample file'\n"
          ],
          "name": "stdout"
        }
      ]
    },
    {
      "cell_type": "markdown",
      "metadata": {
        "id": "ImztleG2Ciae"
      },
      "source": [
        "다른 파일을 다운로드하려면 위의 <code>file&#95;id</code>를 파일의 ID로 설정하세요. ID의 형식은 '1uBtlaggVyWshwcyP6kEI-y&#95;W3P8D26sz'와 같습니다."
      ]
    },
    {
      "cell_type": "markdown",
      "metadata": {
        "id": "sOm9PFrT8mGG"
      },
      "source": [
        "# Google 스프레드시트\n",
        "\n",
        "아래 예시는 오픈소스 <a href=\"https://github.com/burnash/gspread\"><code>gspread</code></a> 라이브러리를 사용해 Google 스프레드시트와 상호작용합니다.\n",
        "\n",
        "먼저 <code>pip</code>를 사용해 패키지를 설치합니다."
      ]
    },
    {
      "cell_type": "code",
      "metadata": {
        "id": "Mwu_sWHv4jEo"
      },
      "source": [
        "!pip install --upgrade gspread"
      ],
      "execution_count": null,
      "outputs": []
    },
    {
      "cell_type": "markdown",
      "metadata": {
        "id": "qzi9VsEqzI-o"
      },
      "source": [
        "라이브러리를 가져오고 인증한 다음 스프레드시트에 인터페이스를 만듭니다."
      ]
    },
    {
      "cell_type": "code",
      "metadata": {
        "id": "6d0xJz3VzLOo"
      },
      "source": [
        "from google.colab import auth\n",
        "auth.authenticate_user()\n",
        "\n",
        "import gspread\n",
        "from oauth2client.client import GoogleCredentials\n",
        "\n",
        "gc = gspread.authorize(GoogleCredentials.get_application_default())"
      ],
      "execution_count": null,
      "outputs": []
    },
    {
      "cell_type": "markdown",
      "metadata": {
        "id": "yjrZQUrt6kKj"
      },
      "source": [
        "다음은 몇 가지 <code>gspread</code> 예시입니다. 추가 예시는 <a href=\"https://github.com/burnash/gspread#more-examples\"><code>gspread</code> GitHub 페이지</a>에서 확인할 수 있습니다."
      ]
    },
    {
      "cell_type": "markdown",
      "metadata": {
        "id": "WgXqE02UofZG"
      },
      "source": [
        "## Python 데이터로 새 시트 만들기"
      ]
    },
    {
      "cell_type": "code",
      "metadata": {
        "id": "tnnYKhGfzGeP"
      },
      "source": [
        "sh = gc.create('My cool spreadsheet')"
      ],
      "execution_count": null,
      "outputs": []
    },
    {
      "cell_type": "markdown",
      "metadata": {
        "id": "v9Ia9JVc6Zvk"
      },
      "source": [
        "위의 셀을 실행하면 <a href=\"https://sheets.google.com/\">https://sheets.google.com</a>에 'My cool spreadsheet'라는 새 스프레드시트가 표시됩니다.\n",
        "\n",
        "새 시트를 열고 몇 가지 데이터를 무작위로 추가합니다."
      ]
    },
    {
      "cell_type": "code",
      "metadata": {
        "colab": {
          "base_uri": "https://localhost:8080/",
          "height": 102
        },
        "id": "ASdgLIt2s-ux",
        "outputId": "68c9eed9-bab9-4169-c5b7-769f7b9e0194"
      },
      "source": [
        "worksheet = gc.open('My cool spreadsheet').sheet1\n",
        "\n",
        "cell_list = worksheet.range('A1:C2')\n",
        "\n",
        "import random\n",
        "for cell in cell_list:\n",
        "  cell.value = random.randint(1, 10)\n",
        "\n",
        "worksheet.update_cells(cell_list)"
      ],
      "execution_count": null,
      "outputs": [
        {
          "output_type": "execute_result",
          "data": {
            "text/plain": [
              "{'spreadsheetId': '1dsQeN0YzXuM387l_CuyEbsYzL2ew9TJFzR-E-RQnwxs',\n",
              " 'updatedCells': 6,\n",
              " 'updatedColumns': 3,\n",
              " 'updatedRange': 'Sheet1!A1:C2',\n",
              " 'updatedRows': 2}"
            ]
          },
          "metadata": {
            "tags": []
          },
          "execution_count": 0
        }
      ]
    },
    {
      "cell_type": "markdown",
      "metadata": {
        "id": "k9q0pp33dckN"
      },
      "source": [
        "## 시트의 데이터를 Pandas DataFrame으로 Python에 다운로드\n",
        "\n",
        "위에서 삽입한 무작위 데이터를 다시 읽고 결과를 <a href=\"https://pandas.pydata.org/pandas-docs/stable/generated/pandas.DataFrame.html\">Pandas DataFrame</a>으로 변환합니다."
      ]
    },
    {
      "cell_type": "code",
      "metadata": {
        "colab": {
          "base_uri": "https://localhost:8080/",
          "height": 141
        },
        "id": "J4QxBareshEV",
        "outputId": "baf17cd6-3c3d-4a34-b1f9-642516cb2bfe"
      },
      "source": [
        "worksheet = gc.open('My cool spreadsheet').sheet1\n",
        "\n",
        "# get_all_values gives a list of rows.\n",
        "rows = worksheet.get_all_values()\n",
        "print(rows)\n",
        "\n",
        "import pandas as pd\n",
        "pd.DataFrame.from_records(rows)"
      ],
      "execution_count": null,
      "outputs": [
        {
          "output_type": "stream",
          "text": [
            "[['6', '3', '4'], ['7', '2', '1']]\n"
          ],
          "name": "stdout"
        },
        {
          "output_type": "execute_result",
          "data": {
            "application/vnd.google.colaboratory.module+javascript": "\n      import \"https://ssl.gstatic.com/colaboratory/data_table/81868506e94e6988/data_table.js\";\n\n      window.createDataTable({\n        data: [[{\n            'v': 0,\n            'f': \"0\",\n        },\n\"6\",\n\"3\",\n\"4\"],\n [{\n            'v': 1,\n            'f': \"1\",\n        },\n\"7\",\n\"2\",\n\"1\"]],\n        columns: [[\"number\", \"index\"], [\"string\", \"0\"], [\"string\", \"1\"], [\"string\", \"2\"]],\n        rowsPerPage: 25,\n      });\n    ",
            "text/html": [
              "<div>\n",
              "<style scoped>\n",
              "    .dataframe tbody tr th:only-of-type {\n",
              "        vertical-align: middle;\n",
              "    }\n",
              "\n",
              "    .dataframe tbody tr th {\n",
              "        vertical-align: top;\n",
              "    }\n",
              "\n",
              "    .dataframe thead th {\n",
              "        text-align: right;\n",
              "    }\n",
              "</style>\n",
              "<table border=\"1\" class=\"dataframe\">\n",
              "  <thead>\n",
              "    <tr style=\"text-align: right;\">\n",
              "      <th></th>\n",
              "      <th>0</th>\n",
              "      <th>1</th>\n",
              "      <th>2</th>\n",
              "    </tr>\n",
              "  </thead>\n",
              "  <tbody>\n",
              "    <tr>\n",
              "      <th>0</th>\n",
              "      <td>6</td>\n",
              "      <td>3</td>\n",
              "      <td>4</td>\n",
              "    </tr>\n",
              "    <tr>\n",
              "      <th>1</th>\n",
              "      <td>7</td>\n",
              "      <td>2</td>\n",
              "      <td>1</td>\n",
              "    </tr>\n",
              "  </tbody>\n",
              "</table>\n",
              "</div>"
            ],
            "text/plain": [
              "   0  1  2\n",
              "0  6  3  4\n",
              "1  7  2  1"
            ]
          },
          "metadata": {
            "tags": []
          },
          "execution_count": 0
        }
      ]
    },
    {
      "cell_type": "markdown",
      "metadata": {
        "id": "S7c8WYyQdh5i"
      },
      "source": [
        "# Google Cloud Storage&#40;GCS&#41;\n",
        "\n",
        "GCS와 함께 Colaboratory를 사용하려면 <a href=\"https://cloud.google.com/storage/docs/projects\">Google Cloud 프로젝트</a>를 만들거나 기존 프로젝트를 사용해야 합니다.\n",
        "\n",
        "아래에서 프로젝트 ID를 지정하세요."
      ]
    },
    {
      "cell_type": "code",
      "metadata": {
        "id": "VYC5CyAbAtU7"
      },
      "source": [
        "project_id = 'Your_project_ID_here'"
      ],
      "execution_count": null,
      "outputs": []
    },
    {
      "cell_type": "markdown",
      "metadata": {
        "id": "5iRYBSVCbAlK"
      },
      "source": [
        "GCS의 파일은 <a href=\"https://cloud.google.com/storage/docs/key-terms#buckets\">버킷</a>에 보관됩니다.\n",
        "\n",
        "버킷에는 전역 고유 이름이 필요하므로 여기에서 하나 생성하겠습니다."
      ]
    },
    {
      "cell_type": "code",
      "metadata": {
        "id": "JgjL1e0ua-kN"
      },
      "source": [
        "import uuid\n",
        "bucket_name = 'colab-sample-bucket-' + str(uuid.uuid1())"
      ],
      "execution_count": null,
      "outputs": []
    },
    {
      "cell_type": "markdown",
      "metadata": {
        "id": "-OtHMRVda9pJ"
      },
      "source": [
        "GCS에 액세스하려면 인증이 필요합니다."
      ]
    },
    {
      "cell_type": "code",
      "metadata": {
        "id": "NQX0hbfYaEKc"
      },
      "source": [
        "from google.colab import auth\n",
        "auth.authenticate_user()"
      ],
      "execution_count": null,
      "outputs": []
    },
    {
      "cell_type": "markdown",
      "metadata": {
        "id": "YLPAbDDFaLXU"
      },
      "source": [
        "GCS는 <code>gsutil</code> 명령줄 유틸리티 또는 네이티브 Python API를 통해 액세스할 수 있습니다."
      ]
    },
    {
      "cell_type": "markdown",
      "metadata": {
        "id": "TvuZEyRQXmyS"
      },
      "source": [
        "## `gsutil`\n",
        "\n",
        "먼저 <code>gcloud</code>를 사용해 위에서 지정한 프로젝트를 사용할 수 있도록 <code>gsutil</code>을 설정합니다."
      ]
    },
    {
      "cell_type": "code",
      "metadata": {
        "colab": {
          "base_uri": "https://localhost:8080/",
          "height": 35
        },
        "id": "TpnuFITI6Tzu",
        "outputId": "04f1dd6d-4d7e-4264-b37b-1e8f645d6d38"
      },
      "source": [
        "!gcloud config set project {project_id}"
      ],
      "execution_count": null,
      "outputs": [
        {
          "output_type": "stream",
          "text": [
            "Updated property [core/project].\r\n"
          ],
          "name": "stdout"
        }
      ]
    },
    {
      "cell_type": "markdown",
      "metadata": {
        "id": "NAM6vyXAfVUj"
      },
      "source": [
        "업로드할 로컬 파일을 만듭니다."
      ]
    },
    {
      "cell_type": "code",
      "metadata": {
        "colab": {
          "base_uri": "https://localhost:8080/",
          "height": 53
        },
        "id": "LADpx7LReOMk",
        "outputId": "46db7cfa-9ad8-405b-f715-b466a3b2cb7a"
      },
      "source": [
        "with open('/tmp/to_upload.txt', 'w') as f:\n",
        "  f.write('my sample file')\n",
        "\n",
        "print('/tmp/to_upload.txt contains:')\n",
        "!cat /tmp/to_upload.txt"
      ],
      "execution_count": null,
      "outputs": [
        {
          "output_type": "stream",
          "text": [
            "/tmp/to_upload.txt contains:\n",
            "my sample file"
          ],
          "name": "stdout"
        }
      ]
    },
    {
      "cell_type": "markdown",
      "metadata": {
        "id": "sSz0aInzWXFI"
      },
      "source": [
        "파일을 업로드할 버킷을 만듭니다&#40;<a href=\"https://cloud.google.com/storage/docs/gsutil/commands/mb\">도움말</a>&#41;."
      ]
    },
    {
      "cell_type": "code",
      "metadata": {
        "colab": {
          "base_uri": "https://localhost:8080/",
          "height": 35
        },
        "id": "Bcpvh_R_6jKB",
        "outputId": "e1c132b8-6a5c-46db-b1fa-f5768089890c"
      },
      "source": [
        "!gsutil mb gs://{bucket_name}"
      ],
      "execution_count": null,
      "outputs": [
        {
          "output_type": "stream",
          "text": [
            "Creating gs://colab-sample-bucket-44971372-baaf-11e7-ae30-0242ac110002/...\r\n"
          ],
          "name": "stdout"
        }
      ]
    },
    {
      "cell_type": "markdown",
      "metadata": {
        "id": "MHPM16gWWNvn"
      },
      "source": [
        "파일을 새 버킷으로 복사합니다&#40;<a href=\"https://cloud.google.com/storage/docs/gsutil/commands/cp\">도움말</a>&#41;."
      ]
    },
    {
      "cell_type": "code",
      "metadata": {
        "colab": {
          "base_uri": "https://localhost:8080/",
          "height": 92
        },
        "id": "L5cMl7XV65be",
        "outputId": "bb51e51d-7f5f-4e2b-935c-203b8d314115"
      },
      "source": [
        "!gsutil cp /tmp/to_upload.txt gs://{bucket_name}/"
      ],
      "execution_count": null,
      "outputs": [
        {
          "output_type": "stream",
          "text": [
            "Copying file:///tmp/to_upload.txt [Content-Type=text/plain]...\n",
            "/ [1 files][   14.0 B/   14.0 B]                                                \n",
            "Operation completed over 1 objects/14.0 B.                                       \n"
          ],
          "name": "stdout"
        }
      ]
    },
    {
      "cell_type": "markdown",
      "metadata": {
        "id": "xAPlMk6nWKNm"
      },
      "source": [
        "모든 항목이 제대로 작동하도록 새롭게 복사한 파일의 내용을 덤프합니다&#40;<a href=\"https://cloud.google.com/storage/docs/gsutil/commands/cat\">도움말</a>&#41;.\n"
      ]
    },
    {
      "cell_type": "code",
      "metadata": {
        "colab": {
          "base_uri": "https://localhost:8080/",
          "height": 35
        },
        "id": "pJGU6gX-7M-N",
        "outputId": "38db2bd3-0879-4a2e-8f41-c9495ba570a9"
      },
      "source": [
        "!gsutil cat gs://{bucket_name}/to_upload.txt"
      ],
      "execution_count": null,
      "outputs": [
        {
          "output_type": "stream",
          "text": [
            "my sample file"
          ],
          "name": "stdout"
        }
      ]
    },
    {
      "cell_type": "code",
      "metadata": {
        "cellView": "form",
        "colab": {
          "height": 34
        },
        "id": "qoectKiGOABf",
        "outputId": "97b483ac-c2b1-46f0-f4ac-61b3701a8c89"
      },
      "source": [
        "#@markdown 업로드가 완료되면 프로젝트의 Cloud Console Storage 브라우저에 데이터가 표시됩니다.\n",
        "print('https://console.cloud.google.com/storage/browser?project=' + project_id)"
      ],
      "execution_count": null,
      "outputs": [
        {
          "output_type": "stream",
          "text": [
            "https://console.cloud.google.com/storage/browser?project=Your_project_ID_here\n"
          ],
          "name": "stdout"
        }
      ]
    },
    {
      "cell_type": "markdown",
      "metadata": {
        "id": "Q2CWQGIghDux"
      },
      "source": [
        "마지막으로 위 예시에 방금 업로드한 파일을 다운로드해 보겠습니다. <code>gsutil cp</code> 명령어에서 순서를 반대로 바꾸기만 하면 됩니다."
      ]
    },
    {
      "cell_type": "code",
      "metadata": {
        "colab": {
          "base_uri": "https://localhost:8080/",
          "height": 110
        },
        "id": "lPdTf-6O73ll",
        "outputId": "a6da299e-00ff-42a7-f845-9a93a4ccce61"
      },
      "source": [
        "!gsutil cp gs://{bucket_name}/to_upload.txt /tmp/gsutil_download.txt\n",
        "  \n",
        "# 전송이 제대로 작동하는지 확인하기 위해 결과를 출력합니다.\n",
        "!cat /tmp/gsutil_download.txt"
      ],
      "execution_count": null,
      "outputs": [
        {
          "output_type": "stream",
          "text": [
            "Copying gs://colab-sample-bucket483f20dc-baaf-11e7-ae30-0242ac110002/to_upload.txt...\n",
            "/ [1 files][   14.0 B/   14.0 B]                                                \n",
            "Operation completed over 1 objects/14.0 B.                                       \n",
            "my sample file"
          ],
          "name": "stdout"
        }
      ]
    },
    {
      "cell_type": "markdown",
      "metadata": {
        "id": "0ENMqxq25szn"
      },
      "source": [
        "## Python API\n",
        "\n",
        "다음 스니펫은 API의 추가적인 사용 사례를 보여 주는 <a href=\"https://github.com/GoogleCloudPlatform/storage-file-transfer-json-python/blob/master/chunked_transfer.py\">대규모 예시</a>를 기반으로 합니다.\n",
        "\n",
        "먼저 서비스 클라이언트를 만듭니다."
      ]
    },
    {
      "cell_type": "code",
      "metadata": {
        "id": "wkJ5ShIgceqI"
      },
      "source": [
        "from googleapiclient.discovery import build\n",
        "gcs_service = build('storage', 'v1')"
      ],
      "execution_count": null,
      "outputs": []
    },
    {
      "cell_type": "markdown",
      "metadata": {
        "id": "R1Hyoh07gQHY"
      },
      "source": [
        "업로드할 로컬 파일을 만듭니다."
      ]
    },
    {
      "cell_type": "code",
      "metadata": {
        "colab": {
          "height": 51
        },
        "id": "s1htTNVlgQHe",
        "outputId": "1a002b58-6c4d-46d0-9572-a43b9bccbfe8"
      },
      "source": [
        "with open('/tmp/to_upload.txt', 'w') as f:\n",
        "  f.write('my sample file')\n",
        "\n",
        "print('/tmp/to_upload.txt contains:')\n",
        "!cat /tmp/to_upload.txt"
      ],
      "execution_count": null,
      "outputs": [
        {
          "output_type": "stream",
          "text": [
            "/tmp/to_upload.txt contains:\n",
            "my sample file"
          ],
          "name": "stdout"
        }
      ]
    },
    {
      "cell_type": "markdown",
      "metadata": {
        "id": "YJKBHaUlgDhl"
      },
      "source": [
        "위에서 지정된 프로젝트에 버킷을 만듭니다."
      ]
    },
    {
      "cell_type": "code",
      "metadata": {
        "colab": {
          "base_uri": "https://localhost:8080/",
          "height": 35
        },
        "id": "YFVbF4cdhd9Y",
        "outputId": "ffa2a4ec-ee02-4fc2-8ed4-a4d73d04e6be"
      },
      "source": [
        "# 위의 gsutil 예시와 다른 전역 고유 버킷 이름을 사용하세요.\n",
        "import uuid\n",
        "bucket_name = 'colab-sample-bucket-' + str(uuid.uuid1())\n",
        "\n",
        "body = {\n",
        "  'name': bucket_name,\n",
        "  # For a full list of locations, see:\n",
        "  # https://cloud.google.com/storage/docs/bucket-locations\n",
        "  'location': 'us',\n",
        "}\n",
        "gcs_service.buckets().insert(project=project_id, body=body).execute()\n",
        "print('Done')"
      ],
      "execution_count": null,
      "outputs": [
        {
          "output_type": "stream",
          "text": [
            "Done\n"
          ],
          "name": "stdout"
        }
      ]
    },
    {
      "cell_type": "markdown",
      "metadata": {
        "id": "ppkrR7p4mx_P"
      },
      "source": [
        "새롭게 만든 버킷에 파일을 업로드합니다."
      ]
    },
    {
      "cell_type": "code",
      "metadata": {
        "colab": {
          "base_uri": "https://localhost:8080/",
          "height": 35
        },
        "id": "cFAq-F2af5TJ",
        "outputId": "d07f7059-5767-4d58-ac71-e457a76e8c07"
      },
      "source": [
        "from googleapiclient.http import MediaFileUpload\n",
        "\n",
        "media = MediaFileUpload('/tmp/to_upload.txt', \n",
        "                        mimetype='text/plain',\n",
        "                        resumable=True)\n",
        "\n",
        "request = gcs_service.objects().insert(bucket=bucket_name, \n",
        "                                       name='to_upload.txt',\n",
        "                                       media_body=media)\n",
        "\n",
        "response = None\n",
        "while response is None:\n",
        "  # _ is a placeholder for a progress object that we ignore.\n",
        "  # (Our file is small, so we skip reporting progress.)\n",
        "  _, response = request.next_chunk()\n",
        "\n",
        "print('Upload complete')"
      ],
      "execution_count": null,
      "outputs": [
        {
          "output_type": "stream",
          "text": [
            "Upload complete\n"
          ],
          "name": "stdout"
        }
      ]
    },
    {
      "cell_type": "code",
      "metadata": {
        "cellView": "form",
        "colab": {
          "height": 34
        },
        "id": "Lvz1BspfpvTl",
        "outputId": "97b483ac-c2b1-46f0-f4ac-61b3701a8c89"
      },
      "source": [
        "#@markdown 업로드가 완료되면 프로젝트의 Cloud Console Storage 브라우저에 데이터가 표시됩니다.\n",
        "print('https://console.cloud.google.com/storage/browser?project=' + project_id)"
      ],
      "execution_count": null,
      "outputs": [
        {
          "output_type": "stream",
          "text": [
            "https://console.cloud.google.com/storage/browser?project=Your_project_ID_here\n"
          ],
          "name": "stdout"
        }
      ]
    },
    {
      "cell_type": "markdown",
      "metadata": {
        "id": "P6aWjfTv7bit"
      },
      "source": [
        "방금 업로드한 파일을 다운로드합니다."
      ]
    },
    {
      "cell_type": "code",
      "metadata": {
        "colab": {
          "base_uri": "https://localhost:8080/",
          "height": 35
        },
        "id": "z1_FuDjAozF1",
        "outputId": "ab14cf25-7b51-41c9-d88c-9a94f5c79dfc"
      },
      "source": [
        "from apiclient.http import MediaIoBaseDownload\n",
        "\n",
        "with open('/tmp/downloaded_from_gcs.txt', 'wb') as f:\n",
        "  request = gcs_service.objects().get_media(bucket=bucket_name,\n",
        "                                            object='to_upload.txt')\n",
        "  media = MediaIoBaseDownload(f, request)\n",
        "\n",
        "  done = False\n",
        "  while not done:\n",
        "    # _ is a placeholder for a progress object that we ignore.\n",
        "    # (Our file is small, so we skip reporting progress.)\n",
        "    _, done = media.next_chunk()\n",
        "\n",
        "print('Download complete')"
      ],
      "execution_count": null,
      "outputs": [
        {
          "output_type": "stream",
          "text": [
            "Download complete\n"
          ],
          "name": "stdout"
        }
      ]
    },
    {
      "cell_type": "markdown",
      "metadata": {
        "id": "OnjWcDFogdY2"
      },
      "source": [
        "다운로드된 파일을 검사합니다.\n"
      ]
    },
    {
      "cell_type": "code",
      "metadata": {
        "colab": {
          "height": 34
        },
        "id": "DxLyhaiBpAGX",
        "outputId": "eb379e18-a6bf-4af2-caf4-f8b9c57f4a80"
      },
      "source": [
        "!cat /tmp/downloaded_from_gcs.txt"
      ],
      "execution_count": null,
      "outputs": [
        {
          "output_type": "stream",
          "text": [
            "my sample file"
          ],
          "name": "stdout"
        }
      ]
    }
  ]
}